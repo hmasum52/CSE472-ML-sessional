{
 "cells": [
  {
   "cell_type": "markdown",
   "metadata": {},
   "source": [
    "### Useful links\n",
    "- [CampusX - Handwritten Digit Classification using ANN](https://www.youtube.com/watch?v=3xPT2Pk0Jds)\n",
    "- [Shubham Singh - The EMNIST dataset letter recognition](https://www.youtube.com/watch?v=3xPT2Pk0Jds)\n",
    "- [Emnist classification](https://github.com/sejalgupta01/EMNIST-Classification/blob/master/EMNIST_Classification%20(3).ipynb)\n",
    "- [Deep learning-Deep understanding by shubham singh](https://www.youtube.com/playlist?list=PL2FZtB-DAFqk4iXGu1xK1_fUmTCjtfQhV)\n",
    "- [Neural Network from Scratch | Mathematics & Python Code](https://www.youtube.com/watch?v=pauPCy_s0Ok)\n",
    "- https://github.com/khelli07/ai-fnn/blob/main/README.md\n",
    "- https://khelli07.medium.com/introduction-to-artificial-neural-network-in-deep-learning-aa7ba2280f50\n",
    "- https://khelli07.medium.com/feedforward-neural-network-fnn-implementation-from-scratch-using-python-467f51ecca3d\n",
    "- https://towardsdatascience.com/creating-neural-networks-from-scratch-in-python-6f02b5dd911\n",
    "- https://subscription.packtpub.com/book/data/9781789346640/1/ch01lvl1sec05/feed-forward-propagation-from-scratch-in-python\n",
    "- [Softmax Layer from Scratch ](https://www.youtube.com/watch?v=AbLvJVwySEo)"
   ]
  },
  {
   "cell_type": "markdown",
   "metadata": {},
   "source": [
    "### Dependencies"
   ]
  },
  {
   "cell_type": "code",
   "execution_count": 1313,
   "metadata": {},
   "outputs": [],
   "source": [
    "# ! pip install torchvision\n",
    "# ! pip install tqdm\n",
    "# ! pip install matplotlib\n",
    "# ! pip install scikit-learn"
   ]
  },
  {
   "cell_type": "code",
   "execution_count": 1314,
   "metadata": {},
   "outputs": [],
   "source": [
    "# fix random seed\n",
    "import numpy as np\n",
    "np.random.seed(0)\n",
    "np.random.RandomState(0)\n",
    "\n",
    "# torch random seed\n",
    "import torch\n",
    "torch.manual_seed(0)\n",
    "\n",
    "import torchvision.datasets as ds\n",
    "import torchvision.transforms as transforms\n",
    "from tqdm import tqdm"
   ]
  },
  {
   "cell_type": "markdown",
   "metadata": {},
   "source": [
    "### Dataset"
   ]
  },
  {
   "cell_type": "code",
   "execution_count": 1315,
   "metadata": {},
   "outputs": [
    {
     "name": "stderr",
     "output_type": "stream",
     "text": [
      "Loading dataset:   0%|           [ time left: ? ]"
     ]
    },
    {
     "name": "stderr",
     "output_type": "stream",
     "text": [
      "Loading dataset: 100%|██████████ [ time left: 00:00 ]\n"
     ]
    }
   ],
   "source": [
    "# Download the training and validation datasets\n",
    "with tqdm(total=1, desc=\"Loading dataset\", bar_format=\"{l_bar}{bar} [ time left: {remaining} ]\") as pbar:\n",
    "    train_val_ds = ds.EMNIST(\n",
    "        root=\"./data\",\n",
    "        split=\"letters\",\n",
    "        train=True,\n",
    "        download=True,\n",
    "        transform=transforms.ToTensor(),\n",
    "    )\n",
    "    pbar.update()"
   ]
  },
  {
   "cell_type": "code",
   "execution_count": 1316,
   "metadata": {},
   "outputs": [
    {
     "name": "stdout",
     "output_type": "stream",
     "text": [
      " train validation dataset lenth: 124800\n",
      " shape: torch.Size([124800, 28, 28])\n",
      " number of classes: 27\n",
      " classes: ['N/A', 'a', 'b', 'c', 'd', 'e', 'f', 'g', 'h', 'i', 'j', 'k', 'l', 'm', 'n', 'o', 'p', 'q', 'r', 's', 't', 'u', 'v', 'w', 'x', 'y', 'z']\n"
     ]
    }
   ],
   "source": [
    "print(f\" train validation dataset lenth: {len(train_val_ds)}\")\n",
    "# print shape\n",
    "print(f\" shape: {train_val_ds.data.shape}\")\n",
    "# print number of classes\n",
    "print(f\" number of classes: {len(train_val_ds.classes)}\")\n",
    "# print classes\n",
    "print(f\" classes: {train_val_ds.classes}\")"
   ]
  },
  {
   "cell_type": "code",
   "execution_count": 1317,
   "metadata": {},
   "outputs": [
    {
     "name": "stderr",
     "output_type": "stream",
     "text": [
      "Loading dataset:   0%|           [ time left: ? ]\n"
     ]
    }
   ],
   "source": [
    "with tqdm(total=1, desc=\"Loading dataset\", bar_format=\"{l_bar}{bar} [ time left: {remaining} ]\") as pbar:\n",
    "    test_ds = ds.EMNIST(\n",
    "        root=\"./data\",\n",
    "        split=\"letters\",\n",
    "        train=False,\n",
    "        transform=transforms.ToTensor(),\n",
    "    )\n",
    "pbar.update()"
   ]
  },
  {
   "cell_type": "code",
   "execution_count": 1318,
   "metadata": {},
   "outputs": [
    {
     "name": "stdout",
     "output_type": "stream",
     "text": [
      "test dataset lenth: 20800\n"
     ]
    }
   ],
   "source": [
    "print(f\"test dataset lenth: {len(test_ds)}\")"
   ]
  },
  {
   "cell_type": "markdown",
   "metadata": {},
   "source": [
    "### Preprocessing"
   ]
  },
  {
   "cell_type": "code",
   "execution_count": 1319,
   "metadata": {},
   "outputs": [
    {
     "name": "stdout",
     "output_type": "stream",
     "text": [
      "number of samples for class 1: 4800\n",
      "number of samples for class 2: 4800\n",
      "number of samples for class 3: 4800\n",
      "number of samples for class 4: 4800\n",
      "number of samples for class 5: 4800\n",
      "number of samples for class 6: 4800\n",
      "number of samples for class 7: 4800\n",
      "number of samples for class 8: 4800\n",
      "number of samples for class 9: 4800\n",
      "number of samples for class 10: 4800\n",
      "number of samples for class 11: 4800\n",
      "number of samples for class 12: 4800\n",
      "number of samples for class 13: 4800\n",
      "number of samples for class 14: 4800\n",
      "number of samples for class 15: 4800\n",
      "number of samples for class 16: 4800\n",
      "number of samples for class 17: 4800\n",
      "number of samples for class 18: 4800\n",
      "number of samples for class 19: 4800\n",
      "number of samples for class 20: 4800\n",
      "number of samples for class 21: 4800\n",
      "number of samples for class 22: 4800\n",
      "number of samples for class 23: 4800\n",
      "number of samples for class 24: 4800\n",
      "number of samples for class 25: 4800\n",
      "number of samples for class 26: 4800\n"
     ]
    }
   ],
   "source": [
    "# get labels\n",
    "labels = np.array(train_val_ds.targets)\n",
    "# get unique labels\n",
    "unique_labels = np.unique(labels)\n",
    "\n",
    "# print number of samples per class\n",
    "for label in unique_labels:\n",
    "    print(f\"number of samples for class {label}: {np.sum(labels == label)}\")"
   ]
  },
  {
   "cell_type": "code",
   "execution_count": 1320,
   "metadata": {},
   "outputs": [
    {
     "name": "stdout",
     "output_type": "stream",
     "text": [
      "number of samples for class 'N/A'(0): 0\n"
     ]
    }
   ],
   "source": [
    "# to the same with tensor operations\n",
    "print(f\"number of samples for class 'N/A'(0): {torch.sum(train_val_ds.targets == 0)}\")\n",
    "# if the count is 0, then it can cause problem with one hot encoding"
   ]
  },
  {
   "cell_type": "code",
   "execution_count": 1321,
   "metadata": {},
   "outputs": [
    {
     "name": "stdout",
     "output_type": "stream",
     "text": [
      "{'N/A': 0, 'a': 1, 'b': 2, 'c': 3, 'd': 4, 'e': 5, 'f': 6, 'g': 7, 'h': 8, 'i': 9, 'j': 10, 'k': 11, 'l': 12, 'm': 13, 'n': 14, 'o': 15, 'p': 16, 'q': 17, 'r': 18, 's': 19, 't': 20, 'u': 21, 'v': 22, 'w': 23, 'x': 24, 'y': 25, 'z': 26}\n"
     ]
    }
   ],
   "source": [
    "print(train_val_ds.class_to_idx)"
   ]
  },
  {
   "cell_type": "code",
   "execution_count": 1322,
   "metadata": {},
   "outputs": [],
   "source": [
    "# remove 'N/A' label and decrease all labels by 1\n",
    "train_val_ds.targets = train_val_ds.targets - 1\n",
    "test_ds.targets = test_ds.targets - 1\n",
    "\n",
    "train_val_ds.classes = train_val_ds.classes[1:]\n",
    "test_ds.classes = test_ds.classes[1:]"
   ]
  },
  {
   "cell_type": "code",
   "execution_count": 1323,
   "metadata": {},
   "outputs": [
    {
     "name": "stdout",
     "output_type": "stream",
     "text": [
      "number of samples for class 0: 4800\n",
      "number of samples for class 1: 4800\n",
      "number of samples for class 2: 4800\n",
      "number of samples for class 3: 4800\n",
      "number of samples for class 4: 4800\n",
      "number of samples for class 5: 4800\n",
      "number of samples for class 6: 4800\n",
      "number of samples for class 7: 4800\n",
      "number of samples for class 8: 4800\n",
      "number of samples for class 9: 4800\n",
      "number of samples for class 10: 4800\n",
      "number of samples for class 11: 4800\n",
      "number of samples for class 12: 4800\n",
      "number of samples for class 13: 4800\n",
      "number of samples for class 14: 4800\n",
      "number of samples for class 15: 4800\n",
      "number of samples for class 16: 4800\n",
      "number of samples for class 17: 4800\n",
      "number of samples for class 18: 4800\n",
      "number of samples for class 19: 4800\n",
      "number of samples for class 20: 4800\n",
      "number of samples for class 21: 4800\n",
      "number of samples for class 22: 4800\n",
      "number of samples for class 23: 4800\n",
      "number of samples for class 24: 4800\n",
      "number of samples for class 25: 4800\n"
     ]
    }
   ],
   "source": [
    "# print number of samples per class\n",
    "for label in torch.unique(train_val_ds.targets):\n",
    "    print(f\"number of samples for class {label}: {torch.sum(train_val_ds.targets == label)}\")"
   ]
  },
  {
   "cell_type": "code",
   "execution_count": 1324,
   "metadata": {},
   "outputs": [
    {
     "name": "stdout",
     "output_type": "stream",
     "text": [
      "{'a': 0, 'b': 1, 'c': 2, 'd': 3, 'e': 4, 'f': 5, 'g': 6, 'h': 7, 'i': 8, 'j': 9, 'k': 10, 'l': 11, 'm': 12, 'n': 13, 'o': 14, 'p': 15, 'q': 16, 'r': 17, 's': 18, 't': 19, 'u': 20, 'v': 21, 'w': 22, 'x': 23, 'y': 24, 'z': 25}\n",
      "{'a': 0, 'b': 1, 'c': 2, 'd': 3, 'e': 4, 'f': 5, 'g': 6, 'h': 7, 'i': 8, 'j': 9, 'k': 10, 'l': 11, 'm': 12, 'n': 13, 'o': 14, 'p': 15, 'q': 16, 'r': 17, 's': 18, 't': 19, 'u': 20, 'v': 21, 'w': 22, 'x': 23, 'y': 24, 'z': 25}\n"
     ]
    }
   ],
   "source": [
    "print(train_val_ds.class_to_idx)\n",
    "print(test_ds.class_to_idx)"
   ]
  },
  {
   "cell_type": "markdown",
   "metadata": {},
   "source": [
    "#### Data Normalization"
   ]
  },
  {
   "cell_type": "code",
   "execution_count": 1325,
   "metadata": {},
   "outputs": [],
   "source": [
    "# next issue: do we need to normalize the data?\n",
    "%matplotlib inline\n",
    "import matplotlib.pyplot as plt"
   ]
  },
  {
   "cell_type": "code",
   "execution_count": 1326,
   "metadata": {},
   "outputs": [
    {
     "data": {
      "image/png": "[encoded data removed]",
      "text/plain": [
       "<Figure size 640x480 with 1 Axes>"
      ]
     },
     "metadata": {},
     "output_type": "display_data"
    }
   ],
   "source": [
    "# plot histogram for 1st 10 samples\n",
    "plt.hist(train_val_ds.data[:10].numpy().ravel(), bins=256)\n",
    "plt.xlabel(\"pixel value\")\n",
    "plt.ylabel(\"count\")\n",
    "plt.show()"
   ]
  },
  {
   "cell_type": "code",
   "execution_count": 1327,
   "metadata": {},
   "outputs": [],
   "source": [
    "# normalize the data\n",
    "train_val_ds.data = train_val_ds.data / torch.max(train_val_ds.data)\n",
    "test_ds.data = test_ds.data / torch.max(test_ds.data)"
   ]
  },
  {
   "cell_type": "code",
   "execution_count": 1328,
   "metadata": {},
   "outputs": [
    {
     "name": "stdout",
     "output_type": "stream",
     "text": [
      "min value: 0.0\n",
      "max value: 1.0\n"
     ]
    }
   ],
   "source": [
    "# print min and max values\n",
    "print(f\"min value: {torch.min(train_val_ds.data)}\")\n",
    "print(f\"max value: {torch.max(train_val_ds.data)}\")"
   ]
  },
  {
   "cell_type": "code",
   "execution_count": 1329,
   "metadata": {},
   "outputs": [
    {
     "data": {
      "image/png": "[encoded data removed]",
      "text/plain": [
       "<Figure size 640x480 with 1 Axes>"
      ]
     },
     "metadata": {},
     "output_type": "display_data"
    },
    {
     "data": {
      "image/png": "[encoded data removed]",
      "text/plain": [
       "<Figure size 640x480 with 1 Axes>"
      ]
     },
     "metadata": {},
     "output_type": "display_data"
    }
   ],
   "source": [
    "# plot histogram for 1st 10 samples\n",
    "plt.hist(train_val_ds.data[:10].numpy().ravel(), bins=256)\n",
    "plt.xlabel(\"pixel value\")\n",
    "plt.ylabel(\"count\")\n",
    "plt.show()\n",
    "\n",
    "# plot for test data\n",
    "plt.hist(test_ds.data[:10].numpy().ravel(), bins=256)\n",
    "plt.xlabel(\"pixel value\")\n",
    "plt.ylabel(\"count\")\n",
    "plt.show()"
   ]
  },
  {
   "cell_type": "code",
   "execution_count": 1330,
   "metadata": {},
   "outputs": [
    {
     "data": {
      "image/png": "[encoded data removed]",
      "text/plain": [
       "<Figure size 1000x500 with 10 Axes>"
      ]
     },
     "metadata": {},
     "output_type": "display_data"
    }
   ],
   "source": [
    "# visualize the data\n",
    "# plot 1st 10 samples\n",
    "\n",
    "# create figure\n",
    "fig, ax = plt.subplots(2, 5, figsize=(10, 5))\n",
    "\n",
    "# plot 1st 10 samples\n",
    "for i, ax in enumerate(ax.flatten()):\n",
    "    ax.imshow(train_val_ds.data[i], cmap=\"gray\")\n",
    "    # access label as letter\n",
    "    letter = train_val_ds.classes[train_val_ds.targets[i]]\n",
    "    ax.set_title(f\"label: {letter}\")\n",
    "\n",
    "# remove axis\n",
    "plt.axis(\"off\")\n",
    "# show plot\n",
    "plt.show()"
   ]
  },
  {
   "cell_type": "code",
   "execution_count": 1331,
   "metadata": {},
   "outputs": [],
   "source": [
    "# # one hot encoding the data with scikit-learn\n",
    "# from sklearn.preprocessing import OneHotEncoder\n",
    "\n",
    "# # create one hot encoder\n",
    "# one_hot_encoder = OneHotEncoder()\n",
    "\n",
    "# # fit one hot encoder\n",
    "# one_hot_encoder.fit(train_validation_ds.targets.reshape(-1, 1))\n",
    "\n",
    "# # transform targets\n",
    "# train_validation_ds.targets = one_hot_encoder.transform(train_validation_ds.targets.reshape(-1, 1)).toarray()\n",
    "\n",
    "# # transform targets\n",
    "# test_ds.targets = one_hot_encoder.transform(test_ds.targets.reshape(-1, 1)).toarray()\n",
    "\n",
    "\n",
    "# # convert to tensor\n",
    "# train_validation_ds.targets = torch.tensor(train_validation_ds.targets)\n",
    "# test_ds.targets = torch.tensor(test_ds.targets)\n",
    "\n",
    "# # print shape\n",
    "# print(f\"train validation targets shape: {train_validation_ds.targets.shape}\")"
   ]
  },
  {
   "cell_type": "markdown",
   "metadata": {},
   "source": [
    "### Train-validation split\n",
    "The dataset contains 28x28 images of letters from the Latin alphabet. Split the train-validation dataset as 85%-15% to form your train set and validation set. "
   ]
  },
  {
   "cell_type": "code",
   "execution_count": 1332,
   "metadata": {},
   "outputs": [],
   "source": [
    "# convert torch to numpy\n",
    "train_val_ds.data = train_val_ds.data.numpy()\n",
    "train_val_ds.targets = train_val_ds.targets.numpy()\n",
    "\n",
    "# convert torch to numpy\n",
    "test_ds.data = test_ds.data.numpy()\n",
    "test_ds.targets = test_ds.targets.numpy()"
   ]
  },
  {
   "cell_type": "code",
   "execution_count": 1333,
   "metadata": {},
   "outputs": [],
   "source": [
    "# use sklearn to split train_validation_dataset into train and validation datasets\n",
    "from sklearn.model_selection import train_test_split\n",
    "\n",
    "val_per = 0.15 # validation percentage\n",
    "\n",
    "# split train_validation_dataset into train and validation datasets as 85% and 15% respectively\n",
    "train_ds, val_ds, train_labels, val_labels = train_test_split(\n",
    "    train_val_ds.data,\n",
    "    train_val_ds.targets,\n",
    "    test_size=val_per,\n",
    "    random_state=1,\n",
    ")"
   ]
  },
  {
   "cell_type": "code",
   "execution_count": 1334,
   "metadata": {},
   "outputs": [
    {
     "name": "stdout",
     "output_type": "stream",
     "text": [
      "train dataset length: 106080\n",
      "validation dataset length: 18720\n"
     ]
    }
   ],
   "source": [
    "print(f\"train dataset length: {len(train_ds)}\")\n",
    "print(f\"validation dataset length: {len(val_ds)}\")"
   ]
  },
  {
   "cell_type": "code",
   "execution_count": 1335,
   "metadata": {},
   "outputs": [
    {
     "name": "stdout",
     "output_type": "stream",
     "text": [
      "train_ds shape: (106080, 28, 28)\n",
      "train_ds type: <class 'numpy.ndarray'>\n",
      "cell data type: float32\n",
      "\n",
      "train_labels shape: (106080,)\n",
      "train_labels type: <class 'numpy.ndarray'>\n",
      "cell data type: int64\n",
      "\n",
      "train_ds 1st 10 data: [[[0. 0. 0. ... 0. 0. 0.]\n",
      "  [0. 0. 0. ... 0. 0. 0.]\n",
      "  [0. 0. 0. ... 0. 0. 0.]\n",
      "  ...\n",
      "  [0. 0. 0. ... 0. 0. 0.]\n",
      "  [0. 0. 0. ... 0. 0. 0.]\n",
      "  [0. 0. 0. ... 0. 0. 0.]]\n",
      "\n",
      " [[0. 0. 0. ... 0. 0. 0.]\n",
      "  [0. 0. 0. ... 0. 0. 0.]\n",
      "  [0. 0. 0. ... 0. 0. 0.]\n",
      "  ...\n",
      "  [0. 0. 0. ... 0. 0. 0.]\n",
      "  [0. 0. 0. ... 0. 0. 0.]\n",
      "  [0. 0. 0. ... 0. 0. 0.]]]\n",
      "train_labels 1st 10 data: [17  1]\n"
     ]
    }
   ],
   "source": [
    "# print data type\n",
    "print(f\"train_ds shape: {train_ds.shape}\")\n",
    "print(f\"train_ds type: {type(train_ds)}\")\n",
    "print(f\"cell data type: {train_ds.dtype}\")\n",
    "\n",
    "# print label\n",
    "print(f\"\\ntrain_labels shape: {train_labels.shape}\")\n",
    "print(f\"train_labels type: {type(train_labels)}\")\n",
    "print(f\"cell data type: {train_labels.dtype}\")\n",
    "\n",
    "n = 2\n",
    "# print 1st 5 data\n",
    "print(f\"\\ntrain_ds 1st 10 data: {train_ds[:n]}\")\n",
    "# print 1st 5 labels\n",
    "print(f\"train_labels 1st 10 data: {train_labels[:n]}\")"
   ]
  },
  {
   "cell_type": "code",
   "execution_count": 1336,
   "metadata": {},
   "outputs": [
    {
     "name": "stdout",
     "output_type": "stream",
     "text": [
      "train labels: [17  1 14 19 21  2 11  9 19 23]\n"
     ]
    }
   ],
   "source": [
    "# print 1st 10 labels\n",
    "print(f\"train labels: {train_labels[:10]}\")"
   ]
  },
  {
   "cell_type": "code",
   "execution_count": 1337,
   "metadata": {},
   "outputs": [
    {
     "name": "stdout",
     "output_type": "stream",
     "text": [
      "validation labels: [12 10 11  8 25 19 18  4 13 15]\n"
     ]
    }
   ],
   "source": [
    "# print 1st 10 validation labels\n",
    "print(f\"validation labels: {val_labels[:10]}\")"
   ]
  },
  {
   "cell_type": "markdown",
   "metadata": {},
   "source": [
    "### FFN implementation"
   ]
  },
  {
   "cell_type": "markdown",
   "metadata": {},
   "source": [
    "##### Loss function\n",
    "As you can see, our example model is currently random. To remedy this, we need a way to\n",
    "calculate how wrong the neural network is at current predictions and begin adjusting weights\n",
    "and biases to decrease error over time. Thus, our next step is to quantify how wrong the model is\n",
    "through what’s defined as a loss function."
   ]
  },
  {
   "cell_type": "code",
   "execution_count": 1338,
   "metadata": {},
   "outputs": [],
   "source": [
    "# no matter which loss function we’ll use, the overall loss is always a mean value of all sample losses\n",
    "# common loss functions\n",
    "class Loss:\n",
    "    # Calculates the data and regularization losses\n",
    "    # given model output and ground truth values\n",
    "    def calculate(self, output, y):\n",
    "        # Calculate sample losses\n",
    "        sample_losses = self.forward(output, y)\n",
    "        # Calculate mean loss\n",
    "        data_loss = np.mean(sample_losses)\n",
    "        # Return loss\n",
    "        return data_loss"
   ]
  },
  {
   "cell_type": "markdown",
   "metadata": {},
   "source": [
    "##### Activation function"
   ]
  },
  {
   "cell_type": "code",
   "execution_count": 1339,
   "metadata": {},
   "outputs": [],
   "source": [
    "class Activation:\n",
    "    def forward(self, inputs):\n",
    "        raise NotImplementedError\n",
    "    def backward(self, grad_outputs):\n",
    "        raise NotImplementedError\n",
    "    "
   ]
  },
  {
   "cell_type": "code",
   "execution_count": 1340,
   "metadata": {},
   "outputs": [],
   "source": [
    "# ReLU activation\n",
    "class ReLU(Activation):\n",
    "    def forward(self, inputs):\n",
    "        self.inputs = inputs\n",
    "        return np.maximum(0, inputs)\n",
    "    \n",
    "    def backward(self, grad_outputs):\n",
    "        # Since we need to modify original variable,\n",
    "        # let’s make a copy of values first\n",
    "        grad_inputs = grad_outputs.copy()\n",
    "\n",
    "       # print(f\"Relu grad_output shape: {grad_outputs.shape}\")\n",
    "\n",
    "        # Zero gradient where input values were negative\n",
    "        grad_inputs[self.inputs <= 0] = 0\n",
    "\n",
    "       # print(f\"Relu grad_input shape: {grad_inputs.shape}\")\n",
    "\n",
    "        return grad_inputs"
   ]
  },
  {
   "cell_type": "code",
   "execution_count": 1341,
   "metadata": {},
   "outputs": [],
   "source": [
    "class Softmax(Activation):\n",
    "\n",
    "    def forward(self, inputs):\n",
    "        # get row max to subtract from each row\n",
    "        # this is to prevent overflow\n",
    "        # the max value in each row will be 0\n",
    "        # the output will be extactly the same\n",
    "        row_maxs = np.max(inputs, axis=1, keepdims=True)\n",
    "\n",
    "        # Get unnormalized probabilities\n",
    "        # exponentiate values\n",
    "        exp_values = np.exp(inputs - row_maxs)\n",
    "\n",
    "        # Get normalization bases for each sample\n",
    "        norm_bases = np.sum(exp_values, axis=1, keepdims=True)\n",
    "\n",
    "        # Normalize them for each sample\n",
    "        probabilities = exp_values / norm_bases\n",
    "\n",
    "        #print(f\"softmax forward output shape: {probabilities.shape}\")\n",
    "\n",
    "        self.output = probabilities\n",
    "\n",
    "        return probabilities\n",
    "    \n",
    "\n",
    "    # back propagation\n",
    "    def backward(self, grad_output):\n",
    "        # # Create uninitialized array\n",
    "        # input_grads = np.empty_like(grad_output)\n",
    "\n",
    "        # # Enumerate outputs and gradients\n",
    "        # outputs = Softmax.forward(inputs)\n",
    "        # # Loop over the samples\n",
    "        # for idx, (output_grad, output) in enumerate(zip(grad_output, outputs)):\n",
    "        #     # Flatten output array\n",
    "        #     single_output = output.reshape(-1, 1)\n",
    "\n",
    "        #     # Calculate Jacobian matrix of the output\n",
    "        #     jacobian_matrix = np.diagflat(single_output) - np.dot(single_output, single_output.T)\n",
    "\n",
    "        #     # Calculate sample-wise gradient\n",
    "        #     # and add it to the array of sample gradients\n",
    "        #     input_grads[idx] = np.dot(jacobian_matrix, output_grad)\n",
    "\n",
    "        # return input_grads\n",
    "       # print(f\"softmax-> grad_output shape: {grad_output.shape}\")\n",
    "        grad_input = self.output * (grad_output - np.sum(self.output * grad_output, axis=-1, keepdims=True))\n",
    "       # print(f\"softmax-> grad_input shape: {grad_input.shape}\")\n",
    "        return grad_input"
   ]
  },
  {
   "cell_type": "code",
   "execution_count": 1342,
   "metadata": {},
   "outputs": [
    {
     "name": "stdout",
     "output_type": "stream",
     "text": [
      "softmax output: [[0.09003057 0.24472847 0.66524096]]\n",
      "softmax gradient: [[-0.01418171 -0.01407704  0.02825875]]\n"
     ]
    }
   ],
   "source": [
    "#test softmax\n",
    "softmax = Softmax()\n",
    "\n",
    "# Forward pass\n",
    "x = np.array([[1.0, 2.0, 3.0]])\n",
    "y = softmax.forward(x)\n",
    "print(f\"softmax output: {y}\")\n",
    "\n",
    "# Backward pass\n",
    "# Example gradient from the next layer\n",
    "grad_output = np.array([[0.1, 0.2, 0.3]])\n",
    "# Calculate gradient\n",
    "grad_input = softmax.backward(grad_output)\n",
    "print(f\"softmax gradient: {grad_input}\")"
   ]
  },
  {
   "cell_type": "markdown",
   "metadata": {},
   "source": [
    "##### Dense layer"
   ]
  },
  {
   "cell_type": "code",
   "execution_count": 1362,
   "metadata": {},
   "outputs": [],
   "source": [
    "# Dense or fully connected layer\n",
    "class DenseLayer:\n",
    "    # Here, we’re setting weights to be random and biases to be 0\n",
    "    def __init__(self, \n",
    "                 n_inputs:int, \n",
    "                 n_neurons:int, \n",
    "                 activation:Activation,\n",
    "                 learning_rate:float = 0.001,\n",
    "                 debug:bool = False,\n",
    "                 ) -> None:\n",
    "        # Xavier initialization\n",
    "        # We divide by n_inputs to reduce the variance of our outputs\n",
    "        # and make sure that they are all in the same range\n",
    "        self.weights = np.random.randn(n_inputs, n_neurons) / np.sqrt(n_inputs)\n",
    "\n",
    "        # print max and min weights\n",
    "        if debug:\n",
    "            print(f\"weights shape: {self.weights.shape}\")\n",
    "            print(f\"weight (min, max) = ({np.min(self.weights)}, {np.max(self.weights)})\")\n",
    "           \n",
    "        # xaiver initialization\n",
    "        self.biases = np.zeros((1, n_neurons))\n",
    "\n",
    "        if debug:\n",
    "            print(f\"baises shape: {self.biases.shape}\")\n",
    "            print(f\"bias (min, max) = ({np.min(self.biases)}, {np.max(self.biases)})\")\n",
    "            \n",
    "\n",
    "        # activation function\n",
    "        self.activation = activation\n",
    "        # learning rate\n",
    "        self.learning_rate = learning_rate\n",
    "\n",
    "    # Forward pass\n",
    "    # When we pass data through a model from beginning to end, this is called a forward pass. \n",
    "    def forward(self, inputs:np.ndarray):\n",
    "        # check input shape\n",
    "        if len(inputs.shape) != 2:\n",
    "            raise ValueError(f\"input shape must be 2D, got {len(inputs.shape)}D\")\n",
    "        \n",
    "        # save input\n",
    "        self.inputs = inputs\n",
    "\n",
    "        # inputs shape: (batch_size, n_inputs)\n",
    "        # weights shape: (n_inputs, n_neurons)\n",
    "        # biases shape: (1, n_neurons)\n",
    "        # output shape: (batch_size, n_neurons) i.e for each sample, we get n_neurons outputs\n",
    "        out =  np.dot(inputs, self.weights) + self.biases\n",
    "     \n",
    "        out = self.activation.forward(out)\n",
    "        return out\n",
    "    \n",
    "    def backward(self, grad_output:np.ndarray):\n",
    "        # activation function derivative\n",
    "        grad_output = self.activation.backward(grad_output)\n",
    "\n",
    "      #  print(f\"denselayer-> grad_output shape: {grad_output.shape}\")\n",
    "\n",
    "        # Gradients on parameters\n",
    "        # dE/dW = dE/dY * dY/dW = dE/dY * X.T\n",
    "        grad_weights = np.dot(self.inputs.T, grad_output)\n",
    "\n",
    "        # dE/dB = dE/dY * dY/dB = dE/dY * 1\n",
    "        grad_biases = grad_output.mean(axis=0) * self.inputs.shape[0]\n",
    "\n",
    "        # Gradient on values\n",
    "        # dE/dX = dE/dY * dY/dX = W.T * dE/dY\n",
    "        grad_inputs = np.dot(grad_output, self.weights.T)\n",
    "\n",
    "    \n",
    "        # update parameters\n",
    "        # vanilla gradient descent optimization\n",
    "        self.weights -= self.learning_rate * grad_weights \n",
    "        self.biases -= self.learning_rate * grad_biases\n",
    "\n",
    "     #   print(f\"denselayer-> grad_input shape: {grad_inputs.shape}\")\n",
    "\n",
    "        return grad_inputs\n",
    "    "
   ]
  },
  {
   "cell_type": "code",
   "execution_count": 1363,
   "metadata": {},
   "outputs": [
    {
     "name": "stdout",
     "output_type": "stream",
     "text": [
      "weights shape: (2, 4)\n",
      "weight (min, max) = (-0.9996103913800035, 0.7211810688786099)\n",
      "baises shape: (1, 4)\n",
      "bias (min, max) = (0.0, 0.0)\n"
     ]
    },
    {
     "data": {
      "text/plain": [
       "array([[0.62795299, 1.64909138, 0.33881513, 0.        ],\n",
       "       [1.34835404, 3.50491199, 0.48266677, 0.        ],\n",
       "       [2.06875508, 5.36073261, 0.62651842, 0.        ]])"
      ]
     },
     "execution_count": 1363,
     "metadata": {},
     "output_type": "execute_result"
    }
   ],
   "source": [
    "inputs = [\n",
    "    [1, 2],\n",
    "    [3, 4],\n",
    "    [5, 6]\n",
    "]\n",
    "\n",
    "dense1 = DenseLayer(2, 4, ReLU(), debug=True)\n",
    "dense1.forward(np.array(inputs))"
   ]
  },
  {
   "cell_type": "code",
   "execution_count": 1364,
   "metadata": {},
   "outputs": [
    {
     "data": {
      "text/plain": [
       "array([[5.68205615e-01, 1.39065649e-01, 3.76052972e-03, 2.88968205e-01],\n",
       "       [3.71025502e-01, 3.20947626e-02, 8.74205591e-06, 5.96870993e-01],\n",
       "       [1.63417450e-01, 4.99625844e-03, 1.37080147e-08, 8.31586278e-01]])"
      ]
     },
     "execution_count": 1364,
     "metadata": {},
     "output_type": "execute_result"
    }
   ],
   "source": [
    "inputs = [\n",
    "    [1, 2],\n",
    "    [3, 4],\n",
    "    [5, 6]\n",
    "]\n",
    "\n",
    "dense1 = DenseLayer(2, 4, Softmax())\n",
    "dense1.forward(np.array(inputs))"
   ]
  },
  {
   "cell_type": "markdown",
   "metadata": {},
   "source": [
    "#### Categorical cross entropy derivative"
   ]
  },
  {
   "cell_type": "code",
   "execution_count": 1365,
   "metadata": {},
   "outputs": [],
   "source": [
    "class CategoricalCrossEntropyLoss(Loss):\n",
    "    # Forward pass\n",
    "    def forward(self, y_pred, y_true):\n",
    "        # Number of samples in a batch\n",
    "        samples = len(y_pred)\n",
    "\n",
    "        # Clip data to prevent division by 0\n",
    "        # Clip both sides to not drag mean towards any value\n",
    "        y_pred_clipped = np.clip(y_pred, 1e-7, 1 - 1e-7)\n",
    "\n",
    "        # Probabilities for target values-only if categorical labels\n",
    "        if len(y_true.shape) == 1:\n",
    "            correct_confidences = y_pred_clipped[range(samples), y_true]\n",
    "        # Mask values - only for one-hot encoded labels\n",
    "        elif len(y_true.shape) == 2:\n",
    "            correct_confidences = np.sum(y_pred_clipped * y_true, axis=1)\n",
    "        \n",
    "        # Losses\n",
    "        negative_log_likelihoods = -np.log(correct_confidences)\n",
    "        \n",
    "        return negative_log_likelihoods\n",
    "    \n",
    "    def backward(self, y_pred, y_true):\n",
    "        # Number of samples\n",
    "        samples = len(y_pred)\n",
    "\n",
    "        # Number of labels in every sample\n",
    "        # We’ll use the first sample to count them\n",
    "        labels = len(y_pred[0])\n",
    "\n",
    "        # If labels are sparse, turn them into one-hot vector\n",
    "        if len(y_true.shape) == 1:\n",
    "            y_true = np.eye(labels)[y_true]\n",
    "\n",
    "        epsilon = 1e-7\n",
    "\n",
    "        # Calculate gradient\n",
    "        grad_output = -y_true / (y_pred+epsilon)\n",
    "        # Normalize gradient\n",
    "        grad_output = grad_output / samples\n",
    "\n",
    "        return grad_output"
   ]
  },
  {
   "cell_type": "markdown",
   "metadata": {},
   "source": [
    "#### Emnist model"
   ]
  },
  {
   "cell_type": "code",
   "execution_count": 1385,
   "metadata": {},
   "outputs": [],
   "source": [
    "class History:\n",
    "    def __init__(self) -> None:\n",
    "        self.loss = []\n",
    "        self.accuracy = []\n",
    "        self.val_loss = []\n",
    "        self.val_accuracy = []\n",
    "        self.val_f1 = []\n",
    "    \n",
    "    def append(self, loss, accuracy, val_loss, val_accuracy, val_f1):\n",
    "        self.loss.append(loss)\n",
    "        self.accuracy.append(accuracy)\n",
    "        self.val_loss.append(val_loss)\n",
    "        self.val_accuracy.append(val_accuracy)\n",
    "        self.val_f1.append(val_f1)"
   ]
  },
  {
   "cell_type": "code",
   "execution_count": 1397,
   "metadata": {},
   "outputs": [],
   "source": [
    "class BestModel:\n",
    "    def __init__(self) -> None:\n",
    "        self.layers = None\n",
    "        self.loss = np.inf\n",
    "        self.accuracy = 0\n",
    "        self.f1 = 0 \n",
    "\n",
    "    def update(self, layers, loss, accuracy, f1):\n",
    "        if f1 > self.f1:\n",
    "            self.layers = layers.copy()\n",
    "            self.loss = loss\n",
    "            self.accuracy = accuracy\n",
    "            self.f1 = f1"
   ]
  },
  {
   "cell_type": "code",
   "execution_count": 1378,
   "metadata": {},
   "outputs": [],
   "source": [
    "# import pickle\n",
    "import pickle\n",
    "# import sklern for f1 score\n",
    "from sklearn.metrics import f1_score"
   ]
  },
  {
   "cell_type": "code",
   "execution_count": 1386,
   "metadata": {},
   "outputs": [],
   "source": [
    "class EmnistModel:\n",
    "    def __init__(\n",
    "            self, \n",
    "            input_size: int = 784, # 28 * 28\n",
    "            output_size: int = 26, # 26 letters\n",
    "            hidden_layers_size: list=[64, 64],\n",
    "            activations: list=[ReLU(), ReLU()],\n",
    "            loss:Loss = CategoricalCrossEntropyLoss(),\n",
    "            learning_rate:float = 0.005,\n",
    "            ) -> None:\n",
    "        \n",
    "        # initialize layers\n",
    "        self.layers = []\n",
    "\n",
    "        # create hidden layers\n",
    "        for i, hidden_layer_size in enumerate(hidden_layers_size):\n",
    "            # if it is the 1st hidden layer\n",
    "            if i == 0:\n",
    "                # input size is the input size of the model\n",
    "                input_size = input_size\n",
    "            else:\n",
    "                # input size is the output size of the previous layer\n",
    "                input_size = hidden_layers_size[i-1]\n",
    "            \n",
    "            # create hidden layer\n",
    "            self.layers.append(\n",
    "                DenseLayer(\n",
    "                    input_size,\n",
    "                    hidden_layer_size,\n",
    "                    activations[i],\n",
    "                    learning_rate=learning_rate,\n",
    "                    debug=True\n",
    "                )\n",
    "            )\n",
    "\n",
    "        # create output layer\n",
    "        self.layers.append(\n",
    "            DenseLayer(\n",
    "                hidden_layers_size[-1],\n",
    "                output_size,\n",
    "                Softmax(),\n",
    "                learning_rate=learning_rate,\n",
    "                debug=True\n",
    "            )\n",
    "        )\n",
    "\n",
    "        # set loss and learning rate\n",
    "        self.loss = loss\n",
    "        self.learning_rate = learning_rate\n",
    "\n",
    "    def model_summary(self):\n",
    "        # print model summary\n",
    "        print(f\"Model summary\")\n",
    "        print(f\"==============\")\n",
    "        print(f\"Input size: {self.layers[0].weights.shape[0]}\")\n",
    "        for i, layer in enumerate(self.layers):\n",
    "            print(f\"Layer {i+1} (input, output) size: {layer.weights.shape}\")\n",
    "        print(f\"Output size: {self.layers[-1].weights.shape[1]}\")\n",
    "        print(f\"Loss: {self.loss.__class__.__name__}\")\n",
    "        print(f\"Learning rate: {self.learning_rate}\\n\")\n",
    "\n",
    "    def save(self, path):\n",
    "        for l in self.layers:\n",
    "            if l.inputs is not None:\n",
    "                l.inputs = None\n",
    "        # save model\n",
    "        with open(path, \"wb\") as f:\n",
    "            pickle.dump(self, f)\n",
    "\n",
    "    @staticmethod\n",
    "    def load(path):\n",
    "        # load model\n",
    "        with open(path, \"rb\") as f:\n",
    "            return pickle.load(f)\n",
    "\n",
    "    def forward(self, inputs):\n",
    "        # forward pass\n",
    "        for layer in self.layers:\n",
    "            inputs = layer.forward(inputs)\n",
    "        return inputs\n",
    "    \n",
    "    def backward(self, grads_output):\n",
    "        # backward pass\n",
    "        for layer in reversed(self.layers):\n",
    "            grads_output = layer.backward(grads_output)\n",
    "        return grads_output\n",
    "    \n",
    "    def shuffle_data(self, X:np.ndarray, y:np.ndarray):\n",
    "        # X and y has different shape\n",
    "        # so we need to shuffle them together\n",
    "        # create random index\n",
    "        random_index = np.random.permutation(len(X))\n",
    "        # shuffle X and y\n",
    "        return X[random_index], y[random_index]\n",
    "    \n",
    "    def evaluate(self, X, y):\n",
    "        # forward pass\n",
    "        output = self.forward(X)\n",
    "        # calculate loss\n",
    "        loss = self.loss.calculate(output, y)\n",
    "        # get predictions and calculate accuracy\n",
    "        predictions = np.argmax(output, axis=1)\n",
    "        accuracy = np.mean(predictions == y)\n",
    "        f1 = f1_score(y, predictions, average=\"macro\")\n",
    "        return loss, accuracy, f1\n",
    "    \n",
    "    \n",
    "    def train(self, X, y, epochs, batch_size, validation_data):\n",
    "        # initialize progress bar\n",
    "        with tqdm(total=epochs, desc=\"Training\", bar_format=\"{l_bar}{bar} [ time left: {remaining} ]\") as pbar:\n",
    "\n",
    "            # initialize history\n",
    "            self.history = History()\n",
    "\n",
    "            # initialize best model\n",
    "            self.best = BestModel()\n",
    "\n",
    "            # train loop\n",
    "            for epoch in range(epochs):\n",
    "                # shuffle data\n",
    "                X, y = self.shuffle_data(X, y)\n",
    "\n",
    "                # initialize loss and accuracy\n",
    "                epoch_loss = 0\n",
    "                epoch_accuracy = 0\n",
    "\n",
    "                steps = X.shape[0] // batch_size\n",
    "                if X.shape[0] % batch_size != 0:\n",
    "                    steps += 1\n",
    "\n",
    "\n",
    "                # iterate over batches\n",
    "                for batch in range(steps):\n",
    "                    # get batch\n",
    "                    X_batch = X[batch * batch_size: (batch + 1) * batch_size]\n",
    "                    y_batch = y[batch * batch_size: (batch + 1) * batch_size]\n",
    "\n",
    "                    # forward pass, calculate loss and accuracy\n",
    "                    # then backward pass, update parameters\n",
    "                    \n",
    "                    output = self.forward(X_batch)\n",
    "\n",
    "                    # calculate loss\n",
    "                    loss = self.loss.calculate(output, y_batch)\n",
    "\n",
    "                    # get predictions and calculate accuracy\n",
    "                    predictions = np.argmax(output, axis=1)\n",
    "                    accuracy = np.mean(predictions == y_batch)\n",
    "\n",
    "                    # update loss and accuracy\n",
    "                    epoch_loss += loss\n",
    "                    epoch_accuracy += accuracy\n",
    "\n",
    "                    # backward pass\n",
    "                    # print(output)\n",
    "                    grad_loss = self.loss.backward(output, y_batch)\n",
    "                    # print(f\"grad loss shape: {grad_loss.shape}\")\n",
    "                    self.backward(grad_loss)\n",
    "\n",
    "                \n",
    "                print(f\"epoch: {epoch+1}/{epochs}, loss: {epoch_loss / steps}, accuracy: {epoch_accuracy / steps}\")\n",
    "\n",
    "                # validation loss and accuracy\n",
    "                val_loss, val_accuracy, val_f1 = self.evaluate(validation_data[0], validation_data[1])\n",
    "                print(f\"validation loss: {val_loss}, validation accuracy: {val_accuracy}, validation f1: {val_f1}\\n\")\n",
    "\n",
    "                # append to history\n",
    "                self.history.append(epoch_loss / steps, epoch_accuracy / steps, val_loss, val_accuracy, val_f1)\n",
    "\n",
    "                # update best model\n",
    "                self.best.update(self.layers, val_loss, val_accuracy, val_f1)\n",
    "                \n",
    "                pbar.update()\n",
    "        \n",
    "        return self.history\n",
    "    \n",
    "    "
   ]
  },
  {
   "cell_type": "markdown",
   "metadata": {},
   "source": [
    "### Training"
   ]
  },
  {
   "cell_type": "markdown",
   "metadata": {},
   "source": [
    "##### Building the model"
   ]
  },
  {
   "cell_type": "code",
   "execution_count": 1387,
   "metadata": {},
   "outputs": [
    {
     "name": "stdout",
     "output_type": "stream",
     "text": [
      "(106080, 784)\n",
      "input shape: (784,)\n",
      "input size: 784\n"
     ]
    }
   ],
   "source": [
    "print(train_ds.shape)\n",
    "input_shape = train_ds.shape[1:]\n",
    "input_size = np.prod(input_shape)\n",
    "print(f\"input shape: {input_shape}\")\n",
    "print(f\"input size: {input_size}\")"
   ]
  },
  {
   "cell_type": "code",
   "execution_count": 1388,
   "metadata": {},
   "outputs": [
    {
     "name": "stdout",
     "output_type": "stream",
     "text": [
      "output size: 26\n"
     ]
    }
   ],
   "source": [
    "output_size = len(np.unique(train_labels))\n",
    "print(f\"output size: {output_size}\")"
   ]
  },
  {
   "cell_type": "code",
   "execution_count": 1389,
   "metadata": {},
   "outputs": [
    {
     "name": "stdout",
     "output_type": "stream",
     "text": [
      "(106080, 784)\n"
     ]
    }
   ],
   "source": [
    "# flatten train_ds and val_ds\n",
    "train_ds = train_ds.reshape(train_ds.shape[0], -1)\n",
    "val_ds = val_ds.reshape(val_ds.shape[0], -1)\n",
    "\n",
    "print(train_ds.shape)"
   ]
  },
  {
   "cell_type": "code",
   "execution_count": 1390,
   "metadata": {},
   "outputs": [
    {
     "name": "stdout",
     "output_type": "stream",
     "text": [
      "weights shape: (784, 1024)\n",
      "weight (min, max) = (-0.16637026663669066, 0.15855333549117248)\n",
      "baises shape: (1, 1024)\n",
      "bias (min, max) = (0.0, 0.0)\n",
      "weights shape: (1024, 512)\n",
      "weight (min, max) = (-0.15103045059679354, 0.14114306825240572)\n",
      "baises shape: (1, 512)\n",
      "bias (min, max) = (0.0, 0.0)\n",
      "weights shape: (512, 64)\n",
      "weight (min, max) = (-0.1771898212125219, 0.20163712436089173)\n",
      "baises shape: (1, 64)\n",
      "bias (min, max) = (0.0, 0.0)\n",
      "weights shape: (64, 26)\n",
      "weight (min, max) = (-0.4390900897359207, 0.368923971813265)\n",
      "baises shape: (1, 26)\n",
      "bias (min, max) = (0.0, 0.0)\n",
      "Model summary\n",
      "==============\n",
      "Input size: 784\n",
      "Layer 1 (input, output) size: (784, 1024)\n",
      "Layer 2 (input, output) size: (1024, 512)\n",
      "Layer 3 (input, output) size: (512, 64)\n",
      "Layer 4 (input, output) size: (64, 26)\n",
      "Output size: 26\n",
      "Loss: CategoricalCrossEntropyLoss\n",
      "Learning rate: 0.005\n",
      "\n"
     ]
    }
   ],
   "source": [
    "model = EmnistModel(\n",
    "    input_size=input_size,\n",
    "    output_size=output_size,\n",
    "    hidden_layers_size=[1024, 512, 64],\n",
    "    activations=[ReLU(), ReLU(), ReLU()],\n",
    "    learning_rate=0.005,\n",
    ")\n",
    "\n",
    "model.model_summary()"
   ]
  },
  {
   "cell_type": "markdown",
   "metadata": {},
   "source": [
    "##### Runnig the model"
   ]
  },
  {
   "cell_type": "code",
   "execution_count": 1391,
   "metadata": {},
   "outputs": [
    {
     "name": "stderr",
     "output_type": "stream",
     "text": [
      "Training:   0%|           [ time left: ? ]"
     ]
    },
    {
     "name": "stdout",
     "output_type": "stream",
     "text": [
      "epoch: 1/100, loss: 2.4650565229326786, accuracy: 0.38898522316043427\n"
     ]
    },
    {
     "name": "stderr",
     "output_type": "stream",
     "text": [
      "Training:   1%|           [ time left: 1:28:58 ]"
     ]
    },
    {
     "name": "stdout",
     "output_type": "stream",
     "text": [
      "validation loss: 1.5664574071411161, validation accuracy: 0.5736645299145299, validation f1: 0.5652278207910018\n",
      "\n",
      "epoch: 2/100, loss: 1.3039616766643434, accuracy: 0.626564384800965\n"
     ]
    },
    {
     "name": "stderr",
     "output_type": "stream",
     "text": [
      "Training:   2%|▏          [ time left: 1:25:55 ]"
     ]
    },
    {
     "name": "stdout",
     "output_type": "stream",
     "text": [
      "validation loss: 1.1665072771822451, validation accuracy: 0.6652243589743589, validation f1: 0.6628610355709476\n",
      "\n",
      "epoch: 3/100, loss: 1.061981792664521, accuracy: 0.6928716827503015\n"
     ]
    },
    {
     "name": "stderr",
     "output_type": "stream",
     "text": [
      "Training:   3%|▎          [ time left: 1:23:07 ]"
     ]
    },
    {
     "name": "stdout",
     "output_type": "stream",
     "text": [
      "validation loss: 1.0177819559671433, validation accuracy: 0.7118055555555556, validation f1: 0.7106593413360629\n",
      "\n",
      "epoch: 4/100, loss: 0.9240871170449914, accuracy: 0.7328200392038601\n"
     ]
    },
    {
     "name": "stderr",
     "output_type": "stream",
     "text": [
      "Training:   4%|▍          [ time left: 1:27:44 ]"
     ]
    },
    {
     "name": "stdout",
     "output_type": "stream",
     "text": [
      "validation loss: 0.8962972236130498, validation accuracy: 0.7374465811965812, validation f1: 0.7369419156475997\n",
      "\n",
      "epoch: 5/100, loss: 0.8183862157531514, accuracy: 0.7635894149577804\n"
     ]
    },
    {
     "name": "stderr",
     "output_type": "stream",
     "text": [
      "Training:   5%|▌          [ time left: 1:35:30 ]"
     ]
    },
    {
     "name": "stdout",
     "output_type": "stream",
     "text": [
      "validation loss: 0.8025087727469157, validation accuracy: 0.7649038461538461, validation f1: 0.7633598053729735\n",
      "\n",
      "epoch: 6/100, loss: 0.7327903010519495, accuracy: 0.7883180036188179\n"
     ]
    },
    {
     "name": "stderr",
     "output_type": "stream",
     "text": [
      "Training:   6%|▌          [ time left: 1:28:48 ]"
     ]
    },
    {
     "name": "stdout",
     "output_type": "stream",
     "text": [
      "validation loss: 0.720989772077247, validation accuracy: 0.7915064102564102, validation f1: 0.7906916837850637\n",
      "\n",
      "epoch: 7/100, loss: 0.6633603193489798, accuracy: 0.8068738691194209\n"
     ]
    },
    {
     "name": "stderr",
     "output_type": "stream",
     "text": [
      "Training:   7%|▋          [ time left: 1:25:04 ]"
     ]
    },
    {
     "name": "stdout",
     "output_type": "stream",
     "text": [
      "validation loss: 0.6650120339061858, validation accuracy: 0.8075320512820513, validation f1: 0.8060867768004628\n",
      "\n",
      "epoch: 8/100, loss: 0.6066703208031053, accuracy: 0.8228475572979493\n"
     ]
    },
    {
     "name": "stderr",
     "output_type": "stream",
     "text": [
      "Training:   8%|▊          [ time left: 1:21:29 ]"
     ]
    },
    {
     "name": "stdout",
     "output_type": "stream",
     "text": [
      "validation loss: 0.6167704827971482, validation accuracy: 0.8192307692307692, validation f1: 0.8191718634411036\n",
      "\n",
      "epoch: 9/100, loss: 0.5602875635896795, accuracy: 0.8357490199034981\n"
     ]
    },
    {
     "name": "stderr",
     "output_type": "stream",
     "text": [
      "Training:   9%|▉          [ time left: 1:18:29 ]"
     ]
    },
    {
     "name": "stdout",
     "output_type": "stream",
     "text": [
      "validation loss: 0.5757523935796246, validation accuracy: 0.8280448717948717, validation f1: 0.8277389489858579\n",
      "\n",
      "epoch: 10/100, loss: 0.5212780125490878, accuracy: 0.8468504975874548\n"
     ]
    },
    {
     "name": "stderr",
     "output_type": "stream",
     "text": [
      "Training:  10%|█          [ time left: 1:17:06 ]"
     ]
    },
    {
     "name": "stdout",
     "output_type": "stream",
     "text": [
      "validation loss: 0.5451482421496777, validation accuracy: 0.8383012820512821, validation f1: 0.8382213859503699\n",
      "\n",
      "epoch: 11/100, loss: 0.4886413363588123, accuracy: 0.8556053980699638\n"
     ]
    },
    {
     "name": "stderr",
     "output_type": "stream",
     "text": [
      "Training:  11%|█          [ time left: 1:15:39 ]"
     ]
    },
    {
     "name": "stdout",
     "output_type": "stream",
     "text": [
      "validation loss: 0.5121004949116539, validation accuracy: 0.8472222222222222, validation f1: 0.8468681784776769\n",
      "\n",
      "epoch: 12/100, loss: 0.46085049709149467, accuracy: 0.8634178980699638\n"
     ]
    },
    {
     "name": "stderr",
     "output_type": "stream",
     "text": [
      "Training:  12%|█▏         [ time left: 1:13:47 ]"
     ]
    },
    {
     "name": "stdout",
     "output_type": "stream",
     "text": [
      "validation loss: 0.48870659685471746, validation accuracy: 0.8536324786324786, validation f1: 0.8533589749573953\n",
      "\n",
      "epoch: 13/100, loss: 0.43583550902231954, accuracy: 0.8696660132689988\n"
     ]
    },
    {
     "name": "stderr",
     "output_type": "stream",
     "text": [
      "Training:  13%|█▎         [ time left: 1:13:18 ]"
     ]
    },
    {
     "name": "stdout",
     "output_type": "stream",
     "text": [
      "validation loss: 0.46931489497554596, validation accuracy: 0.8583867521367521, validation f1: 0.858058252144205\n",
      "\n",
      "epoch: 14/100, loss: 0.415271413560545, accuracy: 0.8753675361881785\n"
     ]
    },
    {
     "name": "stderr",
     "output_type": "stream",
     "text": [
      "Training:  14%|█▍         [ time left: 1:11:47 ]"
     ]
    },
    {
     "name": "stdout",
     "output_type": "stream",
     "text": [
      "validation loss: 0.44950873353503706, validation accuracy: 0.8633547008547009, validation f1: 0.8630109566009113\n",
      "\n",
      "epoch: 15/100, loss: 0.39636073655143583, accuracy: 0.8802208986731002\n"
     ]
    },
    {
     "name": "stderr",
     "output_type": "stream",
     "text": [
      "Training:  15%|█▌         [ time left: 1:10:21 ]"
     ]
    },
    {
     "name": "stdout",
     "output_type": "stream",
     "text": [
      "validation loss: 0.4354421209713507, validation accuracy: 0.8697115384615385, validation f1: 0.8696298061310554\n",
      "\n",
      "epoch: 16/100, loss: 0.3794849522631726, accuracy: 0.8851213811821471\n"
     ]
    },
    {
     "name": "stderr",
     "output_type": "stream",
     "text": [
      "Training:  16%|█▌         [ time left: 1:09:38 ]"
     ]
    },
    {
     "name": "stdout",
     "output_type": "stream",
     "text": [
      "validation loss: 0.43085518717215526, validation accuracy: 0.868482905982906, validation f1: 0.8677330592147533\n",
      "\n",
      "epoch: 17/100, loss: 0.3643530392120543, accuracy: 0.8897014475271411\n"
     ]
    },
    {
     "name": "stderr",
     "output_type": "stream",
     "text": [
      "Training:  17%|█▋         [ time left: 1:07:45 ]"
     ]
    },
    {
     "name": "stdout",
     "output_type": "stream",
     "text": [
      "validation loss: 0.4075233978821821, validation accuracy: 0.8758547008547009, validation f1: 0.8755533526401735\n",
      "\n",
      "epoch: 18/100, loss: 0.35059616408964794, accuracy: 0.8937914656212304\n"
     ]
    },
    {
     "name": "stderr",
     "output_type": "stream",
     "text": [
      "Training:  18%|█▊         [ time left: 1:06:11 ]"
     ]
    },
    {
     "name": "stdout",
     "output_type": "stream",
     "text": [
      "validation loss: 0.39947533958403214, validation accuracy: 0.8779380341880342, validation f1: 0.8777487465068815\n",
      "\n",
      "epoch: 19/100, loss: 0.3383804423277286, accuracy: 0.8967411791314838\n"
     ]
    },
    {
     "name": "stderr",
     "output_type": "stream",
     "text": [
      "Training:  19%|█▉         [ time left: 1:04:39 ]"
     ]
    },
    {
     "name": "stdout",
     "output_type": "stream",
     "text": [
      "validation loss: 0.3888360153609721, validation accuracy: 0.8802350427350427, validation f1: 0.8797357437890677\n",
      "\n",
      "epoch: 20/100, loss: 0.32683368888417613, accuracy: 0.8997568606755126\n"
     ]
    },
    {
     "name": "stderr",
     "output_type": "stream",
     "text": [
      "Training:  20%|██         [ time left: 1:03:21 ]"
     ]
    },
    {
     "name": "stdout",
     "output_type": "stream",
     "text": [
      "validation loss: 0.37911599976713184, validation accuracy: 0.8838141025641025, validation f1: 0.8839209463547119\n",
      "\n",
      "epoch: 21/100, loss: 0.3164914008922819, accuracy: 0.903743214716526\n"
     ]
    },
    {
     "name": "stderr",
     "output_type": "stream",
     "text": [
      "Training:  21%|██         [ time left: 1:02:05 ]"
     ]
    },
    {
     "name": "stdout",
     "output_type": "stream",
     "text": [
      "validation loss: 0.3694099391162877, validation accuracy: 0.8871260683760683, validation f1: 0.8868965117466595\n",
      "\n",
      "epoch: 22/100, loss: 0.30611577426665115, accuracy: 0.9064007840772015\n"
     ]
    },
    {
     "name": "stderr",
     "output_type": "stream",
     "text": [
      "Training:  22%|██▏        [ time left: 1:00:42 ]"
     ]
    },
    {
     "name": "stdout",
     "output_type": "stream",
     "text": [
      "validation loss: 0.3680213333890682, validation accuracy: 0.8873397435897435, validation f1: 0.8872613708643592\n",
      "\n",
      "epoch: 23/100, loss: 0.2972207381591928, accuracy: 0.9083798250904704\n"
     ]
    },
    {
     "name": "stderr",
     "output_type": "stream",
     "text": [
      "Training:  23%|██▎        [ time left: 59:53 ]  "
     ]
    },
    {
     "name": "stdout",
     "output_type": "stream",
     "text": [
      "validation loss: 0.3600996537156295, validation accuracy: 0.8872329059829059, validation f1: 0.8873278314015434\n",
      "\n",
      "epoch: 24/100, loss: 0.2885507067229883, accuracy: 0.9107829463208685\n"
     ]
    },
    {
     "name": "stderr",
     "output_type": "stream",
     "text": [
      "Training:  24%|██▍        [ time left: 59:11 ]"
     ]
    },
    {
     "name": "stdout",
     "output_type": "stream",
     "text": [
      "validation loss: 0.354436362215793, validation accuracy: 0.88883547008547, validation f1: 0.888696970145138\n",
      "\n",
      "epoch: 25/100, loss: 0.2809707825749722, accuracy: 0.9131012515078407\n"
     ]
    },
    {
     "name": "stderr",
     "output_type": "stream",
     "text": [
      "Training:  25%|██▌        [ time left: 58:16 ]"
     ]
    },
    {
     "name": "stdout",
     "output_type": "stream",
     "text": [
      "validation loss: 0.3459797570432502, validation accuracy: 0.8931089743589744, validation f1: 0.8929104024015071\n",
      "\n",
      "epoch: 26/100, loss: 0.27302116313569014, accuracy: 0.9158907569360676\n"
     ]
    },
    {
     "name": "stderr",
     "output_type": "stream",
     "text": [
      "Training:  26%|██▌        [ time left: 57:08 ]"
     ]
    },
    {
     "name": "stdout",
     "output_type": "stream",
     "text": [
      "validation loss: 0.3476887046364261, validation accuracy: 0.8922542735042736, validation f1: 0.8921984708599466\n",
      "\n",
      "epoch: 27/100, loss: 0.26599414799677934, accuracy: 0.9178038299155609\n"
     ]
    },
    {
     "name": "stderr",
     "output_type": "stream",
     "text": [
      "Training:  27%|██▋        [ time left: 56:32 ]"
     ]
    },
    {
     "name": "stdout",
     "output_type": "stream",
     "text": [
      "validation loss: 0.34004131412266875, validation accuracy: 0.8932692307692308, validation f1: 0.8931054546057842\n",
      "\n",
      "epoch: 28/100, loss: 0.25918609797662934, accuracy: 0.9192268546441495\n"
     ]
    },
    {
     "name": "stderr",
     "output_type": "stream",
     "text": [
      "Training:  28%|██▊        [ time left: 55:39 ]"
     ]
    },
    {
     "name": "stdout",
     "output_type": "stream",
     "text": [
      "validation loss: 0.3347998845821738, validation accuracy: 0.895673076923077, validation f1: 0.895560150201466\n",
      "\n",
      "epoch: 29/100, loss: 0.2529352530153149, accuracy: 0.9213001357056695\n"
     ]
    },
    {
     "name": "stderr",
     "output_type": "stream",
     "text": [
      "Training:  29%|██▉        [ time left: 54:53 ]"
     ]
    },
    {
     "name": "stdout",
     "output_type": "stream",
     "text": [
      "validation loss: 0.32962124553586936, validation accuracy: 0.8973290598290599, validation f1: 0.8974200623253419\n",
      "\n",
      "epoch: 30/100, loss: 0.24650485984872103, accuracy: 0.9229870325693607\n"
     ]
    },
    {
     "name": "stderr",
     "output_type": "stream",
     "text": [
      "Training:  30%|███        [ time left: 54:04 ]"
     ]
    },
    {
     "name": "stdout",
     "output_type": "stream",
     "text": [
      "validation loss: 0.33342927132666295, validation accuracy: 0.893482905982906, validation f1: 0.8927976278325107\n",
      "\n",
      "epoch: 31/100, loss: 0.2408633083144216, accuracy: 0.9252205217129071\n"
     ]
    },
    {
     "name": "stderr",
     "output_type": "stream",
     "text": [
      "Training:  31%|███        [ time left: 53:10 ]"
     ]
    },
    {
     "name": "stdout",
     "output_type": "stream",
     "text": [
      "validation loss: 0.32749190186520694, validation accuracy: 0.8993055555555556, validation f1: 0.89903100529793\n",
      "\n",
      "epoch: 32/100, loss: 0.23532844989138396, accuracy: 0.926766058504222\n"
     ]
    },
    {
     "name": "stderr",
     "output_type": "stream",
     "text": [
      "Training:  32%|███▏       [ time left: 52:22 ]"
     ]
    },
    {
     "name": "stdout",
     "output_type": "stream",
     "text": [
      "validation loss: 0.3207922401722185, validation accuracy: 0.9000534188034188, validation f1: 0.8999939598291251\n",
      "\n",
      "epoch: 33/100, loss: 0.22936006004011378, accuracy: 0.927708458986731\n"
     ]
    },
    {
     "name": "stderr",
     "output_type": "stream",
     "text": [
      "Training:  33%|███▎       [ time left: 51:45 ]"
     ]
    },
    {
     "name": "stdout",
     "output_type": "stream",
     "text": [
      "validation loss: 0.3188515725675852, validation accuracy: 0.8998931623931624, validation f1: 0.8998086645869682\n",
      "\n",
      "epoch: 34/100, loss: 0.22434745248356622, accuracy: 0.9299796441495778\n"
     ]
    },
    {
     "name": "stderr",
     "output_type": "stream",
     "text": [
      "Training:  34%|███▍       [ time left: 51:03 ]"
     ]
    },
    {
     "name": "stdout",
     "output_type": "stream",
     "text": [
      "validation loss: 0.3254253989277602, validation accuracy: 0.8988247863247864, validation f1: 0.898597903778316\n",
      "\n",
      "epoch: 35/100, loss: 0.21947068026271704, accuracy: 0.9311859167671894\n"
     ]
    },
    {
     "name": "stderr",
     "output_type": "stream",
     "text": [
      "Training:  35%|███▌       [ time left: 50:06 ]"
     ]
    },
    {
     "name": "stdout",
     "output_type": "stream",
     "text": [
      "validation loss: 0.3168911977960546, validation accuracy: 0.9004273504273504, validation f1: 0.9002688132710385\n",
      "\n",
      "epoch: 36/100, loss: 0.21442195923615426, accuracy: 0.9320435012062727\n"
     ]
    },
    {
     "name": "stderr",
     "output_type": "stream",
     "text": [
      "Training:  36%|███▌       [ time left: 49:28 ]"
     ]
    },
    {
     "name": "stdout",
     "output_type": "stream",
     "text": [
      "validation loss: 0.31486711507408804, validation accuracy: 0.9010149572649573, validation f1: 0.9008885589177628\n",
      "\n",
      "epoch: 37/100, loss: 0.20939656296453688, accuracy: 0.9340979342581424\n"
     ]
    },
    {
     "name": "stderr",
     "output_type": "stream",
     "text": [
      "Training:  37%|███▋       [ time left: 48:51 ]"
     ]
    },
    {
     "name": "stdout",
     "output_type": "stream",
     "text": [
      "validation loss: 0.3125241120369282, validation accuracy: 0.9008012820512821, validation f1: 0.900543402445054\n",
      "\n",
      "epoch: 38/100, loss: 0.20517622837904653, accuracy: 0.9352947828709288\n"
     ]
    },
    {
     "name": "stderr",
     "output_type": "stream",
     "text": [
      "Training:  38%|███▊       [ time left: 47:58 ]"
     ]
    },
    {
     "name": "stdout",
     "output_type": "stream",
     "text": [
      "validation loss: 0.30930883942944687, validation accuracy: 0.9038461538461539, validation f1: 0.9040327966175099\n",
      "\n",
      "epoch: 39/100, loss: 0.2011122991457846, accuracy: 0.936359695416164\n"
     ]
    },
    {
     "name": "stderr",
     "output_type": "stream",
     "text": [
      "Training:  39%|███▉       [ time left: 47:04 ]"
     ]
    },
    {
     "name": "stdout",
     "output_type": "stream",
     "text": [
      "validation loss: 0.3064456134982127, validation accuracy: 0.9049679487179487, validation f1: 0.9048952669806559\n",
      "\n",
      "epoch: 40/100, loss: 0.19692173001643068, accuracy: 0.9372172798552473\n"
     ]
    },
    {
     "name": "stderr",
     "output_type": "stream",
     "text": [
      "Training:  40%|████       [ time left: 46:27 ]"
     ]
    },
    {
     "name": "stdout",
     "output_type": "stream",
     "text": [
      "validation loss: 0.3062036011639064, validation accuracy: 0.9030982905982906, validation f1: 0.9028812237442415\n",
      "\n",
      "epoch: 41/100, loss: 0.19274455544229935, accuracy: 0.9388664806996381\n"
     ]
    },
    {
     "name": "stderr",
     "output_type": "stream",
     "text": [
      "Training:  41%|████       [ time left: 45:37 ]"
     ]
    },
    {
     "name": "stdout",
     "output_type": "stream",
     "text": [
      "validation loss: 0.30578686434221947, validation accuracy: 0.9038461538461539, validation f1: 0.903884772287729\n",
      "\n",
      "epoch: 42/100, loss: 0.18877545988817496, accuracy: 0.940308353437877\n"
     ]
    },
    {
     "name": "stderr",
     "output_type": "stream",
     "text": [
      "Training:  42%|████▏      [ time left: 44:52 ]"
     ]
    },
    {
     "name": "stdout",
     "output_type": "stream",
     "text": [
      "validation loss: 0.30783945617029784, validation accuracy: 0.9031517094017094, validation f1: 0.9030386479958109\n",
      "\n",
      "epoch: 43/100, loss: 0.1847148903584219, accuracy: 0.9408078256936068\n"
     ]
    },
    {
     "name": "stderr",
     "output_type": "stream",
     "text": [
      "Training:  43%|████▎      [ time left: 107:47:55 ]"
     ]
    },
    {
     "name": "stdout",
     "output_type": "stream",
     "text": [
      "validation loss: 0.30120260803484317, validation accuracy: 0.9064102564102564, validation f1: 0.906397170376303\n",
      "\n",
      "epoch: 44/100, loss: 0.18101467496921908, accuracy: 0.9421648823884198\n"
     ]
    },
    {
     "name": "stderr",
     "output_type": "stream",
     "text": [
      "Training:  44%|████▍      [ time left: 74:22:39 ] "
     ]
    },
    {
     "name": "stdout",
     "output_type": "stream",
     "text": [
      "validation loss: 0.3055359934961718, validation accuracy: 0.9046474358974359, validation f1: 0.9049179247243366\n",
      "\n",
      "epoch: 45/100, loss: 0.17682811969289466, accuracy: 0.9436067551266586\n"
     ]
    },
    {
     "name": "stderr",
     "output_type": "stream",
     "text": [
      "Training:  45%|████▌      [ time left: 51:21:41 ]"
     ]
    },
    {
     "name": "stdout",
     "output_type": "stream",
     "text": [
      "validation loss: 0.3031308356595743, validation accuracy: 0.9048076923076923, validation f1: 0.9046606597551997\n",
      "\n",
      "epoch: 46/100, loss: 0.17347835690616867, accuracy: 0.9444454915560917\n"
     ]
    },
    {
     "name": "stderr",
     "output_type": "stream",
     "text": [
      "Training:  46%|████▌      [ time left: 35:32:15 ]"
     ]
    },
    {
     "name": "stdout",
     "output_type": "stream",
     "text": [
      "validation loss: 0.30068805204954985, validation accuracy: 0.9058760683760684, validation f1: 0.9058882150141515\n",
      "\n",
      "epoch: 47/100, loss: 0.17081175792907347, accuracy: 0.9450297798552473\n"
     ]
    },
    {
     "name": "stderr",
     "output_type": "stream",
     "text": [
      "Training:  47%|████▋      [ time left: 24:38:38 ]"
     ]
    },
    {
     "name": "stdout",
     "output_type": "stream",
     "text": [
      "validation loss: 0.2983680823497868, validation accuracy: 0.9059294871794872, validation f1: 0.9059951351888758\n",
      "\n",
      "epoch: 48/100, loss: 0.16673610361751376, accuracy: 0.946669556694813\n"
     ]
    },
    {
     "name": "stderr",
     "output_type": "stream",
     "text": [
      "Training:  48%|████▊      [ time left: 17:08:30 ]"
     ]
    },
    {
     "name": "stdout",
     "output_type": "stream",
     "text": [
      "validation loss: 0.2988520829588032, validation accuracy: 0.9048611111111111, validation f1: 0.9051287265015235\n",
      "\n",
      "epoch: 49/100, loss: 0.1635600372599614, accuracy: 0.9478852533172497\n"
     ]
    },
    {
     "name": "stderr",
     "output_type": "stream",
     "text": [
      "Training:  49%|████▉      [ time left: 11:58:45 ]"
     ]
    },
    {
     "name": "stdout",
     "output_type": "stream",
     "text": [
      "validation loss: 0.29831814720664246, validation accuracy: 0.9056623931623932, validation f1: 0.905910860084461\n",
      "\n",
      "epoch: 50/100, loss: 0.15990624022397, accuracy: 0.949892566344994\n"
     ]
    },
    {
     "name": "stderr",
     "output_type": "stream",
     "text": [
      "Training:  50%|█████      [ time left: 8:26:12 ] "
     ]
    },
    {
     "name": "stdout",
     "output_type": "stream",
     "text": [
      "validation loss: 0.2972617749406192, validation accuracy: 0.9066773504273504, validation f1: 0.906695285876453\n",
      "\n",
      "epoch: 51/100, loss: 0.15724062141366343, accuracy: 0.9501470144752714\n"
     ]
    },
    {
     "name": "stderr",
     "output_type": "stream",
     "text": [
      "Training:  51%|█████      [ time left: 5:59:02 ]"
     ]
    },
    {
     "name": "stdout",
     "output_type": "stream",
     "text": [
      "validation loss: 0.29856641286862007, validation accuracy: 0.905448717948718, validation f1: 0.9056063053489425\n",
      "\n",
      "epoch: 52/100, loss: 0.15387229969941918, accuracy: 0.9506936067551267\n"
     ]
    },
    {
     "name": "stderr",
     "output_type": "stream",
     "text": [
      "Training:  52%|█████▏     [ time left: 4:17:50 ]"
     ]
    },
    {
     "name": "stdout",
     "output_type": "stream",
     "text": [
      "validation loss: 0.29963413497138847, validation accuracy: 0.9068910256410256, validation f1: 0.9068464780185532\n",
      "\n",
      "epoch: 53/100, loss: 0.1509854092124141, accuracy: 0.9518433353437877\n"
     ]
    },
    {
     "name": "stderr",
     "output_type": "stream",
     "text": [
      "Training:  53%|█████▎     [ time left: 3:08:19 ]"
     ]
    },
    {
     "name": "stdout",
     "output_type": "stream",
     "text": [
      "validation loss: 0.30023402159167956, validation accuracy: 0.9060897435897436, validation f1: 0.9058478289007599\n",
      "\n",
      "epoch: 54/100, loss: 0.14816768442181127, accuracy: 0.9524747436670687\n"
     ]
    },
    {
     "name": "stderr",
     "output_type": "stream",
     "text": [
      "Training:  54%|█████▍     [ time left: 2:20:04 ]"
     ]
    },
    {
     "name": "stdout",
     "output_type": "stream",
     "text": [
      "validation loss: 0.3096271795534743, validation accuracy: 0.9018162393162393, validation f1: 0.9019233396015369\n",
      "\n",
      "epoch: 55/100, loss: 0.1454456586742144, accuracy: 0.9530873039806996\n"
     ]
    },
    {
     "name": "stderr",
     "output_type": "stream",
     "text": [
      "Training:  55%|█████▌     [ time left: 1:47:23 ]"
     ]
    },
    {
     "name": "stdout",
     "output_type": "stream",
     "text": [
      "validation loss: 0.3023597851883364, validation accuracy: 0.9082799145299145, validation f1: 0.9084292249143099\n",
      "\n",
      "epoch: 56/100, loss: 0.14215360039741018, accuracy: 0.954585720747889\n"
     ]
    },
    {
     "name": "stderr",
     "output_type": "stream",
     "text": [
      "Training:  56%|█████▌     [ time left: 1:23:42 ]"
     ]
    },
    {
     "name": "stdout",
     "output_type": "stream",
     "text": [
      "validation loss: 0.29992111059984666, validation accuracy: 0.9061431623931624, validation f1: 0.9060696910274377\n",
      "\n",
      "epoch: 57/100, loss: 0.13938031394555114, accuracy: 0.9553961851628469\n"
     ]
    },
    {
     "name": "stderr",
     "output_type": "stream",
     "text": [
      "Training:  57%|█████▋     [ time left: 1:07:43 ]"
     ]
    },
    {
     "name": "stdout",
     "output_type": "stream",
     "text": [
      "validation loss: 0.2970494462659098, validation accuracy: 0.9076388888888889, validation f1: 0.9075254000616695\n",
      "\n",
      "epoch: 58/100, loss: 0.13683768598310792, accuracy: 0.9564799457177322\n"
     ]
    },
    {
     "name": "stderr",
     "output_type": "stream",
     "text": [
      "Training:  58%|█████▊     [ time left: 55:54 ]  "
     ]
    },
    {
     "name": "stdout",
     "output_type": "stream",
     "text": [
      "validation loss: 0.3025807145115263, validation accuracy: 0.903258547008547, validation f1: 0.9025971306373995\n",
      "\n",
      "epoch: 59/100, loss: 0.13432952761389041, accuracy: 0.9562254975874548\n"
     ]
    },
    {
     "name": "stderr",
     "output_type": "stream",
     "text": [
      "Training:  59%|█████▉     [ time left: 48:09 ]"
     ]
    },
    {
     "name": "stdout",
     "output_type": "stream",
     "text": [
      "validation loss: 0.297285929692421, validation accuracy: 0.909241452991453, validation f1: 0.9092875213056618\n",
      "\n",
      "epoch: 60/100, loss: 0.13149611039545275, accuracy: 0.957921818455971\n"
     ]
    },
    {
     "name": "stderr",
     "output_type": "stream",
     "text": [
      "Training:  60%|██████     [ time left: 42:06 ]"
     ]
    },
    {
     "name": "stdout",
     "output_type": "stream",
     "text": [
      "validation loss: 0.30878937183393657, validation accuracy: 0.9048076923076923, validation f1: 0.9046911894599261\n",
      "\n",
      "epoch: 61/100, loss: 0.1291824776813843, accuracy: 0.9582987786489746\n"
     ]
    },
    {
     "name": "stderr",
     "output_type": "stream",
     "text": [
      "Training:  61%|██████     [ time left: 37:33 ]"
     ]
    },
    {
     "name": "stdout",
     "output_type": "stream",
     "text": [
      "validation loss: 0.2995068994915788, validation accuracy: 0.9058226495726496, validation f1: 0.9058609954805988\n",
      "\n",
      "epoch: 62/100, loss: 0.12633503125162018, accuracy: 0.9598066194209891\n"
     ]
    },
    {
     "name": "stderr",
     "output_type": "stream",
     "text": [
      "Training:  62%|██████▏    [ time left: 35:21 ]"
     ]
    },
    {
     "name": "stdout",
     "output_type": "stream",
     "text": [
      "validation loss: 0.2982652740717103, validation accuracy: 0.9087606837606838, validation f1: 0.9089554740876282\n",
      "\n",
      "epoch: 63/100, loss: 0.12421536825005294, accuracy: 0.9600327955367913\n"
     ]
    },
    {
     "name": "stderr",
     "output_type": "stream",
     "text": [
      "Training:  63%|██████▎    [ time left: 33:30 ]"
     ]
    },
    {
     "name": "stdout",
     "output_type": "stream",
     "text": [
      "validation loss: 0.3012366938014709, validation accuracy: 0.9079059829059829, validation f1: 0.9079173838508626\n",
      "\n",
      "epoch: 64/100, loss: 0.12163553282849975, accuracy: 0.9615217882991556\n"
     ]
    },
    {
     "name": "stderr",
     "output_type": "stream",
     "text": [
      "Training:  64%|██████▍    [ time left: 32:25 ]"
     ]
    },
    {
     "name": "stdout",
     "output_type": "stream",
     "text": [
      "validation loss: 0.3042232426814611, validation accuracy: 0.9041132478632479, validation f1: 0.903079971987434\n",
      "\n",
      "epoch: 65/100, loss: 0.11960503736870491, accuracy: 0.9618327804583836\n"
     ]
    },
    {
     "name": "stderr",
     "output_type": "stream",
     "text": [
      "Training:  65%|██████▌    [ time left: 31:36 ]"
     ]
    },
    {
     "name": "stdout",
     "output_type": "stream",
     "text": [
      "validation loss: 0.30334605941609444, validation accuracy: 0.907051282051282, validation f1: 0.9069502870974783\n",
      "\n",
      "epoch: 66/100, loss: 0.11710211003846174, accuracy: 0.9623699487334137\n"
     ]
    },
    {
     "name": "stderr",
     "output_type": "stream",
     "text": [
      "Training:  66%|██████▌    [ time left: 29:52 ]"
     ]
    },
    {
     "name": "stdout",
     "output_type": "stream",
     "text": [
      "validation loss: 0.3029688464120215, validation accuracy: 0.9082799145299145, validation f1: 0.9081898203687\n",
      "\n",
      "epoch: 67/100, loss: 0.11491754106083736, accuracy: 0.9630296290711701\n"
     ]
    },
    {
     "name": "stderr",
     "output_type": "stream",
     "text": [
      "Training:  67%|██████▋    [ time left: 28:14 ]"
     ]
    },
    {
     "name": "stdout",
     "output_type": "stream",
     "text": [
      "validation loss: 0.3042707726374967, validation accuracy: 0.9071047008547009, validation f1: 0.9069505341612535\n",
      "\n",
      "epoch: 68/100, loss: 0.11314102167904563, accuracy: 0.9634914053075995\n"
     ]
    },
    {
     "name": "stderr",
     "output_type": "stream",
     "text": [
      "Training:  68%|██████▊    [ time left: 27:07 ]"
     ]
    },
    {
     "name": "stdout",
     "output_type": "stream",
     "text": [
      "validation loss: 0.30670270716674103, validation accuracy: 0.9053952991452991, validation f1: 0.9051252359030898\n",
      "\n",
      "epoch: 69/100, loss: 0.11124016299784521, accuracy: 0.9650746381182147\n"
     ]
    },
    {
     "name": "stderr",
     "output_type": "stream",
     "text": [
      "Training:  69%|██████▉    [ time left: 26:21 ]"
     ]
    },
    {
     "name": "stdout",
     "output_type": "stream",
     "text": [
      "validation loss: 0.3124503941038923, validation accuracy: 0.9029380341880342, validation f1: 0.9023895700395616\n",
      "\n",
      "epoch: 70/100, loss: 0.10919521584499309, accuracy: 0.9651123341375151\n"
     ]
    },
    {
     "name": "stderr",
     "output_type": "stream",
     "text": [
      "Training:  70%|███████    [ time left: 25:34 ]"
     ]
    },
    {
     "name": "stdout",
     "output_type": "stream",
     "text": [
      "validation loss: 0.31157431094994464, validation accuracy: 0.905715811965812, validation f1: 0.9053562483308583\n",
      "\n",
      "epoch: 71/100, loss: 0.10674153769463991, accuracy: 0.9655835343787696\n"
     ]
    },
    {
     "name": "stderr",
     "output_type": "stream",
     "text": [
      "Training:  71%|███████    [ time left: 24:54 ]"
     ]
    },
    {
     "name": "stdout",
     "output_type": "stream",
     "text": [
      "validation loss: 0.30906659138010434, validation accuracy: 0.9078525641025641, validation f1: 0.9077425324481738\n",
      "\n",
      "epoch: 72/100, loss: 0.10472359825569505, accuracy: 0.966884047044632\n"
     ]
    },
    {
     "name": "stderr",
     "output_type": "stream",
     "text": [
      "Training:  72%|███████▏   [ time left: 24:01 ]"
     ]
    },
    {
     "name": "stdout",
     "output_type": "stream",
     "text": [
      "validation loss: 0.30421454567568723, validation accuracy: 0.9085470085470085, validation f1: 0.9083544434266566\n",
      "\n",
      "epoch: 73/100, loss: 0.10317284287321164, accuracy: 0.9669688630880579\n"
     ]
    },
    {
     "name": "stderr",
     "output_type": "stream",
     "text": [
      "Training:  73%|███████▎   [ time left: 23:03 ]"
     ]
    },
    {
     "name": "stdout",
     "output_type": "stream",
     "text": [
      "validation loss: 0.3097771897512937, validation accuracy: 0.9056089743589744, validation f1: 0.9054855339885535\n",
      "\n",
      "epoch: 74/100, loss: 0.10099824425917013, accuracy: 0.9676756634499397\n"
     ]
    },
    {
     "name": "stderr",
     "output_type": "stream",
     "text": [
      "Training:  74%|███████▍   [ time left: 22:07 ]"
     ]
    },
    {
     "name": "stdout",
     "output_type": "stream",
     "text": [
      "validation loss: 0.3059839479374601, validation accuracy: 0.9079594017094017, validation f1: 0.9080294980366452\n",
      "\n",
      "epoch: 75/100, loss: 0.09941322423696466, accuracy: 0.9684672798552473\n"
     ]
    },
    {
     "name": "stderr",
     "output_type": "stream",
     "text": [
      "Training:  75%|███████▌   [ time left: 21:18 ]"
     ]
    },
    {
     "name": "stdout",
     "output_type": "stream",
     "text": [
      "validation loss: 0.3070052267827687, validation accuracy: 0.9088141025641026, validation f1: 0.9089452662997997\n",
      "\n",
      "epoch: 76/100, loss: 0.09736548111056002, accuracy: 0.9690044481302774\n"
     ]
    },
    {
     "name": "stderr",
     "output_type": "stream",
     "text": [
      "Training:  76%|███████▌   [ time left: 20:23 ]"
     ]
    },
    {
     "name": "stdout",
     "output_type": "stream",
     "text": [
      "validation loss: 0.3080911355231778, validation accuracy: 0.9064102564102564, validation f1: 0.9063752813328\n",
      "\n",
      "epoch: 77/100, loss: 0.09561405279552558, accuracy: 0.9692871682750301\n"
     ]
    },
    {
     "name": "stderr",
     "output_type": "stream",
     "text": [
      "Training:  77%|███████▋   [ time left: 19:35 ]"
     ]
    },
    {
     "name": "stdout",
     "output_type": "stream",
     "text": [
      "validation loss: 0.30840654245882876, validation accuracy: 0.908707264957265, validation f1: 0.9085904307108307\n",
      "\n",
      "epoch: 78/100, loss: 0.09392756083027667, accuracy: 0.9705028648974668\n"
     ]
    },
    {
     "name": "stderr",
     "output_type": "stream",
     "text": [
      "Training:  78%|███████▊   [ time left: 18:36 ]"
     ]
    },
    {
     "name": "stdout",
     "output_type": "stream",
     "text": [
      "validation loss: 0.3085106175356917, validation accuracy: 0.9094017094017094, validation f1: 0.9092569325579626\n",
      "\n",
      "epoch: 79/100, loss: 0.0920697476119406, accuracy: 0.9703992008443908\n"
     ]
    },
    {
     "name": "stderr",
     "output_type": "stream",
     "text": [
      "Training:  79%|███████▉   [ time left: 17:52 ]"
     ]
    },
    {
     "name": "stdout",
     "output_type": "stream",
     "text": [
      "validation loss: 0.30994622635419256, validation accuracy: 0.9086004273504273, validation f1: 0.9085849168743849\n",
      "\n",
      "epoch: 80/100, loss: 0.09057107176854962, accuracy: 0.9710023371531966\n"
     ]
    },
    {
     "name": "stderr",
     "output_type": "stream",
     "text": [
      "Training:  80%|████████   [ time left: 17:03 ]"
     ]
    },
    {
     "name": "stdout",
     "output_type": "stream",
     "text": [
      "validation loss: 0.3098065449052551, validation accuracy: 0.9071047008547009, validation f1: 0.9070163821733038\n",
      "\n",
      "epoch: 81/100, loss: 0.08917985517470196, accuracy: 0.971247361278649\n"
     ]
    },
    {
     "name": "stderr",
     "output_type": "stream",
     "text": [
      "Training:  81%|████████   [ time left: 16:29 ]"
     ]
    },
    {
     "name": "stdout",
     "output_type": "stream",
     "text": [
      "validation loss: 0.31606258440106255, validation accuracy: 0.9081196581196581, validation f1: 0.9077700250979295\n",
      "\n",
      "epoch: 82/100, loss: 0.08758458573088623, accuracy: 0.9720484016887817\n"
     ]
    },
    {
     "name": "stderr",
     "output_type": "stream",
     "text": [
      "Training:  82%|████████▏  [ time left: 15:39 ]"
     ]
    },
    {
     "name": "stdout",
     "output_type": "stream",
     "text": [
      "validation loss: 0.3216628628481248, validation accuracy: 0.905448717948718, validation f1: 0.9045142069453854\n",
      "\n",
      "epoch: 83/100, loss: 0.08575610051125807, accuracy: 0.9724630579010857\n"
     ]
    },
    {
     "name": "stderr",
     "output_type": "stream",
     "text": [
      "Training:  83%|████████▎  [ time left: 14:57 ]"
     ]
    },
    {
     "name": "stdout",
     "output_type": "stream",
     "text": [
      "validation loss: 0.31037489224314607, validation accuracy: 0.910042735042735, validation f1: 0.9099853792704435\n",
      "\n",
      "epoch: 84/100, loss: 0.08434808581849454, accuracy: 0.9732264022919179\n"
     ]
    },
    {
     "name": "stderr",
     "output_type": "stream",
     "text": [
      "Training:  84%|████████▍  [ time left: 15:07 ]"
     ]
    },
    {
     "name": "stdout",
     "output_type": "stream",
     "text": [
      "validation loss: 0.31679057052277093, validation accuracy: 0.9084401709401709, validation f1: 0.9080029248818355\n",
      "\n",
      "epoch: 85/100, loss: 0.0829911334364103, accuracy: 0.9734808504221955\n"
     ]
    },
    {
     "name": "stderr",
     "output_type": "stream",
     "text": [
      "Training:  85%|████████▌  [ time left: 15:30 ]"
     ]
    },
    {
     "name": "stdout",
     "output_type": "stream",
     "text": [
      "validation loss: 0.31151658458325654, validation accuracy: 0.910042735042735, validation f1: 0.9101099114697484\n",
      "\n",
      "epoch: 86/100, loss: 0.08170225934131112, accuracy: 0.9741405307599518\n"
     ]
    },
    {
     "name": "stderr",
     "output_type": "stream",
     "text": [
      "Training:  86%|████████▌  [ time left: 13:56 ]"
     ]
    },
    {
     "name": "stdout",
     "output_type": "stream",
     "text": [
      "validation loss: 0.31373802360103914, validation accuracy: 0.9080128205128205, validation f1: 0.9078146652261933\n",
      "\n",
      "epoch: 87/100, loss: 0.0803422213201325, accuracy: 0.9742441948130277\n"
     ]
    },
    {
     "name": "stderr",
     "output_type": "stream",
     "text": [
      "Training:  87%|████████▋  [ time left: 13:36 ]"
     ]
    },
    {
     "name": "stdout",
     "output_type": "stream",
     "text": [
      "validation loss: 0.3252862079415276, validation accuracy: 0.9064636752136752, validation f1: 0.906656272765457\n",
      "\n",
      "epoch: 88/100, loss: 0.07857561664103799, accuracy: 0.9746305790108565\n"
     ]
    },
    {
     "name": "stderr",
     "output_type": "stream",
     "text": [
      "Training:  88%|████████▊  [ time left: 12:32 ]"
     ]
    },
    {
     "name": "stdout",
     "output_type": "stream",
     "text": [
      "validation loss: 0.317320962789415, validation accuracy: 0.9087606837606838, validation f1: 0.9086612038427272\n",
      "\n",
      "epoch: 89/100, loss: 0.07707230514542823, accuracy: 0.9755541314837153\n"
     ]
    },
    {
     "name": "stderr",
     "output_type": "stream",
     "text": [
      "Training:  89%|████████▉  [ time left: 11:31 ]"
     ]
    },
    {
     "name": "stdout",
     "output_type": "stream",
     "text": [
      "validation loss: 0.32286941378609135, validation accuracy: 0.906784188034188, validation f1: 0.9067109774933055\n",
      "\n",
      "epoch: 90/100, loss: 0.07613598665686477, accuracy: 0.975836851628468\n"
     ]
    },
    {
     "name": "stderr",
     "output_type": "stream",
     "text": [
      "Training:  90%|█████████  [ time left: 10:31 ]"
     ]
    },
    {
     "name": "stdout",
     "output_type": "stream",
     "text": [
      "validation loss: 0.31928795742042254, validation accuracy: 0.9097222222222222, validation f1: 0.9095811068220756\n",
      "\n",
      "epoch: 91/100, loss: 0.07462996912579903, accuracy: 0.9761666917973462\n"
     ]
    },
    {
     "name": "stderr",
     "output_type": "stream",
     "text": [
      "Training:  91%|█████████  [ time left: 08:58 ]"
     ]
    },
    {
     "name": "stdout",
     "output_type": "stream",
     "text": [
      "validation loss: 0.32445799571395784, validation accuracy: 0.9071047008547009, validation f1: 0.9070292361105364\n",
      "\n",
      "epoch: 92/100, loss: 0.07359155937604647, accuracy: 0.976458835946924\n"
     ]
    },
    {
     "name": "stderr",
     "output_type": "stream",
     "text": [
      "Training:  92%|█████████▏ [ time left: 07:58 ]"
     ]
    },
    {
     "name": "stdout",
     "output_type": "stream",
     "text": [
      "validation loss: 0.32685098260681567, validation accuracy: 0.9082264957264957, validation f1: 0.9080137836942612\n",
      "\n",
      "epoch: 93/100, loss: 0.07238072682051358, accuracy: 0.977184484318456\n"
     ]
    },
    {
     "name": "stderr",
     "output_type": "stream",
     "text": [
      "Training:  93%|█████████▎ [ time left: 06:38 ]"
     ]
    },
    {
     "name": "stdout",
     "output_type": "stream",
     "text": [
      "validation loss: 0.3337162839564379, validation accuracy: 0.9035790598290598, validation f1: 0.9028732974878899\n",
      "\n",
      "epoch: 94/100, loss: 0.07106636405705992, accuracy: 0.9773069963811821\n"
     ]
    },
    {
     "name": "stderr",
     "output_type": "stream",
     "text": [
      "Training:  94%|█████████▍ [ time left: 05:27 ]"
     ]
    },
    {
     "name": "stdout",
     "output_type": "stream",
     "text": [
      "validation loss: 0.3296070152813248, validation accuracy: 0.9065705128205128, validation f1: 0.906001184213109\n",
      "\n",
      "epoch: 95/100, loss: 0.07007402570014312, accuracy: 0.9775802925211098\n"
     ]
    },
    {
     "name": "stderr",
     "output_type": "stream",
     "text": [
      "Training:  95%|█████████▌ [ time left: 04:24 ]"
     ]
    },
    {
     "name": "stdout",
     "output_type": "stream",
     "text": [
      "validation loss: 0.326740917074505, validation accuracy: 0.9098290598290598, validation f1: 0.9096630366738805\n",
      "\n",
      "epoch: 96/100, loss: 0.06901642799356741, accuracy: 0.9777781966224367\n"
     ]
    },
    {
     "name": "stderr",
     "output_type": "stream",
     "text": [
      "Training:  96%|█████████▌ [ time left: 03:26 ]"
     ]
    },
    {
     "name": "stdout",
     "output_type": "stream",
     "text": [
      "validation loss: 0.33144027410466237, validation accuracy: 0.9079594017094017, validation f1: 0.9076657365073915\n",
      "\n",
      "epoch: 97/100, loss: 0.06784335970976293, accuracy: 0.9781551568154403\n"
     ]
    },
    {
     "name": "stderr",
     "output_type": "stream",
     "text": [
      "Training:  97%|█████████▋ [ time left: 02:31 ]"
     ]
    },
    {
     "name": "stdout",
     "output_type": "stream",
     "text": [
      "validation loss: 0.3264695089918781, validation accuracy: 0.909241452991453, validation f1: 0.9090931004693128\n",
      "\n",
      "epoch: 98/100, loss: 0.06653245479422122, accuracy: 0.978541541013269\n"
     ]
    },
    {
     "name": "stderr",
     "output_type": "stream",
     "text": [
      "Training:  98%|█████████▊ [ time left: 01:39 ]"
     ]
    },
    {
     "name": "stdout",
     "output_type": "stream",
     "text": [
      "validation loss: 0.33066158145283375, validation accuracy: 0.9075320512820513, validation f1: 0.9074879523265676\n",
      "\n",
      "epoch: 99/100, loss: 0.06577844906624548, accuracy: 0.978861957177322\n"
     ]
    },
    {
     "name": "stderr",
     "output_type": "stream",
     "text": [
      "Training:  99%|█████████▉ [ time left: 00:51 ]"
     ]
    },
    {
     "name": "stdout",
     "output_type": "stream",
     "text": [
      "validation loss: 0.3296720980791594, validation accuracy: 0.9082799145299145, validation f1: 0.9081606483915959\n",
      "\n",
      "epoch: 100/100, loss: 0.06465074151750794, accuracy: 0.9792483413751508\n"
     ]
    },
    {
     "name": "stderr",
     "output_type": "stream",
     "text": [
      "Training: 100%|██████████ [ time left: 00:00 ]"
     ]
    },
    {
     "name": "stdout",
     "output_type": "stream",
     "text": [
      "validation loss: 0.33095068759326446, validation accuracy: 0.908707264957265, validation f1: 0.9088265396870521\n",
      "\n"
     ]
    },
    {
     "name": "stderr",
     "output_type": "stream",
     "text": [
      "\n"
     ]
    }
   ],
   "source": [
    "history = model.train(\n",
    "    X=train_ds,\n",
    "    y=train_labels,\n",
    "    epochs=100,\n",
    "    batch_size=64,\n",
    "    validation_data=(val_ds, val_labels)\n",
    ")"
   ]
  },
  {
   "cell_type": "code",
   "execution_count": 1395,
   "metadata": {},
   "outputs": [
    {
     "data": {
      "image/png": "[encoded data removed]",
      "text/plain": [
       "<Figure size 640x480 with 1 Axes>"
      ]
     },
     "metadata": {},
     "output_type": "display_data"
    },
    {
     "data": {
      "text/plain": [
       "[<matplotlib.lines.Line2D at 0x16d07228590>]"
      ]
     },
     "execution_count": 1395,
     "metadata": {},
     "output_type": "execute_result"
    },
    {
     "data": {
      "image/png": "[encoded data removed]",
      "text/plain": [
       "<Figure size 640x480 with 1 Axes>"
      ]
     },
     "metadata": {},
     "output_type": "display_data"
    }
   ],
   "source": [
    "# plot training and validation loss\n",
    "plt.plot(history.loss, label=\"training loss\")\n",
    "plt.plot(history.val_loss, label=\"validation loss\")\n",
    "plt.legend()\n",
    "plt.show()\n",
    "\n",
    "# plot training and validation accuracy\n",
    "plt.plot(history.accuracy, label=\"training accuracy\")\n",
    "plt.plot(history.val_accuracy, label=\"validation accuracy\")"
   ]
  },
  {
   "cell_type": "code",
   "execution_count": 1396,
   "metadata": {},
   "outputs": [
    {
     "data": {
      "image/png": "[encoded data removed]",
      "text/plain": [
       "<Figure size 640x480 with 1 Axes>"
      ]
     },
     "metadata": {},
     "output_type": "display_data"
    }
   ],
   "source": [
    "# plot training and validation f1\n",
    "plt.plot(history.val_f1, label=\"validation f1\")\n",
    "plt.legend()\n",
    "plt.show()\n"
   ]
  },
  {
   "cell_type": "markdown",
   "metadata": {},
   "source": [
    "### Testing"
   ]
  },
  {
   "cell_type": "code",
   "execution_count": 1392,
   "metadata": {},
   "outputs": [
    {
     "name": "stdout",
     "output_type": "stream",
     "text": [
      "test loss: 0.33173834923967577, test accuracy: 0.910673076923077\n"
     ]
    }
   ],
   "source": [
    "# test model\n",
    "X_test = test_ds.data.reshape(test_ds.data.shape[0], -1)\n",
    "y_test = test_ds.targets\n",
    "test_loss, test_accuracy, f1 = model.evaluate(X_test, y_test)\n",
    "\n",
    "print(f\"test loss: {test_loss}, test accuracy: {test_accuracy}\")"
   ]
  },
  {
   "cell_type": "code",
   "execution_count": null,
   "metadata": {},
   "outputs": [],
   "source": []
  },
  {
   "cell_type": "code",
   "execution_count": 1393,
   "metadata": {},
   "outputs": [],
   "source": [
    "# save model\n",
    "model.save(\"emnist_model.pkl\")"
   ]
  },
  {
   "cell_type": "code",
   "execution_count": 1399,
   "metadata": {},
   "outputs": [
    {
     "name": "stdout",
     "output_type": "stream",
     "text": [
      "test loss: 0.3317383492396757, test accuracy: 0.910673076923077\n"
     ]
    }
   ],
   "source": [
    "# load model\n",
    "model = EmnistModel.load(\"emnist_model.pkl\")\n",
    "\n",
    "# test model\n",
    "X_test = test_ds.data.reshape(test_ds.data.shape[0], -1)\n",
    "y_test = test_ds.targets\n",
    "\n",
    "# suffle data\n",
    "X_test, y_test = model.shuffle_data(X_test, y_test)\n",
    "\n",
    "test_loss, test_accuracy, f1 = model.evaluate(X_test, y_test)\n",
    "\n",
    "print(f\"test loss: {test_loss}, test accuracy: {test_accuracy}\")"
   ]
  }
 ],
 "metadata": {
  "kernelspec": {
   "display_name": "venv",
   "language": "python",
   "name": "python3"
  },
  "language_info": {
   "codemirror_mode": {
    "name": "ipython",
    "version": 3
   },
   "file_extension": ".py",
   "mimetype": "text/x-python",
   "name": "python",
   "nbconvert_exporter": "python",
   "pygments_lexer": "ipython3",
   "version": "3.11.7"
  }
 },
 "nbformat": 4,
 "nbformat_minor": 2
}
