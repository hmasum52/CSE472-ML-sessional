{
 "cells": [
  {
   "cell_type": "code",
   "execution_count": 5,
   "metadata": {},
   "outputs": [],
   "source": [
    "# fix random seed\n",
    "import numpy as np\n",
    "np.random.seed(1)\n"
   ]
  },
  {
   "cell_type": "code",
   "execution_count": 8,
   "metadata": {},
   "outputs": [
    {
     "name": "stdout",
     "output_type": "stream",
     "text": [
      "Dropout output (training): [[ 0.  0.  6.]\n",
      " [ 8.  0. 12.]]\n",
      "Dropout output (inference): [[ 2.  4.  0.]\n",
      " [ 0.  0. 12.]]\n",
      "Dropout gradient: [[0.2 0.4 0. ]\n",
      " [0.  0.  1.2]]\n"
     ]
    }
   ],
   "source": [
    "\n",
    "# Dropout\n",
    "class DropoutLayer:\n",
    "    # Init\n",
    "    def __init__(self, dropout_rate=0.3):\n",
    "        # Store rate, we invert it as for example for dropout\n",
    "        # of 0.1 we need success rate of 0.9\n",
    "        self.rate = 1 - dropout_rate\n",
    "\n",
    "    # Forward pass\n",
    "    def forward(self, inputs):\n",
    "        # Save input values\n",
    "        self.inputs = inputs\n",
    "\n",
    "        # Generate and save scaled mask\n",
    "        self.mask = np.random.binomial(1, self.rate, size=inputs.shape) / self.rate\n",
    "\n",
    "        # Apply mask to output values\n",
    "        return inputs * self.mask\n",
    "\n",
    "    # Backward pass\n",
    "    def backward(self, grad_output):\n",
    "        # Gradient on values\n",
    "        return grad_output * self.mask\n",
    "    \n",
    "# Example usage:\n",
    "dropout_layer = DropoutLayer(dropout_rate=0.5)\n",
    "\n",
    "# Example minibatch of input vectors\n",
    "x_batch = np.array([[1.0, 2.0, 3.0], [4.0, 5.0, 6.0]])\n",
    "\n",
    "# Forward pass during training\n",
    "output_train = dropout_layer.forward(x_batch)\n",
    "print(\"Dropout output (training):\", output_train)\n",
    "\n",
    "# Forward pass during inference\n",
    "output_inference = dropout_layer.forward(x_batch)\n",
    "print(\"Dropout output (inference):\", output_inference)\n",
    "\n",
    "# Example gradient from the next layer for the minibatch\n",
    "grad_output_batch = np.array([[0.1, 0.2, 0.3], [0.4, 0.5, 0.6]])\n",
    "\n",
    "# Backward pass\n",
    "grad_input_batch = dropout_layer.backward(grad_output_batch)\n",
    "print(\"Dropout gradient:\", grad_input_batch)\n"
   ]
  },
  {
   "cell_type": "code",
   "execution_count": 9,
   "metadata": {},
   "outputs": [
    {
     "name": "stdout",
     "output_type": "stream",
     "text": [
      "Dropout output (training): [[ 2.  4.  0.]\n",
      " [ 0.  0. 12.]]\n",
      "Dropout output (inference): [[0.5 1.  1.5]\n",
      " [2.  2.5 3. ]]\n",
      "Dropout gradient: [[0.2 0.4 0. ]\n",
      " [0.  0.  1.2]]\n"
     ]
    }
   ],
   "source": [
    "import numpy as np\n",
    "\n",
    "class DropoutLayer:\n",
    "    def __init__(self, dropout_rate=0.5):\n",
    "        self.dropout_rate = dropout_rate\n",
    "        self.mask = None\n",
    "        self.input = None\n",
    "        self.output = None\n",
    "\n",
    "    def forward(self, x, training=True):\n",
    "        if training:\n",
    "            # Generate a binary mask where values < dropout_rate are set to 0 (dropped out),\n",
    "            # and values >= dropout_rate are set to 1 (kept).\n",
    "            self.mask = (np.random.rand(*x.shape) < self.dropout_rate) / (1 - self.dropout_rate)\n",
    "            self.output = x * self.mask\n",
    "        else:\n",
    "            # During inference, no dropout is applied, and the output is the input scaled by (1 - dropout_rate).\n",
    "            self.output = x * (1 - self.dropout_rate)\n",
    "\n",
    "        # Save the input for the backward pass\n",
    "        self.input = x\n",
    "        return self.output\n",
    "\n",
    "    def backward(self, grad_output):\n",
    "        # Apply the dropout mask during the backward pass\n",
    "        grad_input = grad_output * self.mask\n",
    "        return grad_input\n",
    "\n",
    "\n",
    "# Example usage:\n",
    "dropout_layer = DropoutLayer(dropout_rate=0.5)\n",
    "\n",
    "# Example minibatch of input vectors\n",
    "x_batch = np.array([[1.0, 2.0, 3.0], [4.0, 5.0, 6.0]])\n",
    "\n",
    "# Forward pass during training\n",
    "output_train = dropout_layer.forward(x_batch, training=True)\n",
    "print(\"Dropout output (training):\", output_train)\n",
    "\n",
    "# Forward pass during inference\n",
    "output_inference = dropout_layer.forward(x_batch, training=False)\n",
    "print(\"Dropout output (inference):\", output_inference)\n",
    "\n",
    "# Example gradient from the next layer for the minibatch\n",
    "grad_output_batch = np.array([[0.1, 0.2, 0.3], [0.4, 0.5, 0.6]])\n",
    "\n",
    "# Backward pass\n",
    "grad_input_batch = dropout_layer.backward(grad_output_batch)\n",
    "print(\"Dropout gradient:\", grad_input_batch)\n"
   ]
  }
 ],
 "metadata": {
  "kernelspec": {
   "display_name": "venv",
   "language": "python",
   "name": "python3"
  },
  "language_info": {
   "codemirror_mode": {
    "name": "ipython",
    "version": 3
   },
   "file_extension": ".py",
   "mimetype": "text/x-python",
   "name": "python",
   "nbconvert_exporter": "python",
   "pygments_lexer": "ipython3",
   "version": "3.11.7"
  }
 },
 "nbformat": 4,
 "nbformat_minor": 2
}
