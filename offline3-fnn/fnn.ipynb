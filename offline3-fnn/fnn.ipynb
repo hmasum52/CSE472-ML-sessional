{
 "cells": [
  {
   "cell_type": "markdown",
   "metadata": {},
   "source": [
    "### Useful links\n",
    "- [CampusX - Handwritten Digit Classification using ANN](https://www.youtube.com/watch?v=3xPT2Pk0Jds)\n",
    "- [Shubham Singh - The EMNIST dataset letter recognition](https://www.youtube.com/watch?v=3xPT2Pk0Jds)\n",
    "- [Emnist classification](https://github.com/sejalgupta01/EMNIST-Classification/blob/master/EMNIST_Classification%20(3).ipynb)\n",
    "- [Deep learning-Deep understanding by shubham singh](https://www.youtube.com/playlist?list=PL2FZtB-DAFqk4iXGu1xK1_fUmTCjtfQhV)\n",
    "- [Neural Network from Scratch | Mathematics & Python Code](https://www.youtube.com/watch?v=pauPCy_s0Ok)\n",
    "- https://github.com/khelli07/ai-fnn/blob/main/README.md\n",
    "- https://khelli07.medium.com/introduction-to-artificial-neural-network-in-deep-learning-aa7ba2280f50\n",
    "- https://khelli07.medium.com/feedforward-neural-network-fnn-implementation-from-scratch-using-python-467f51ecca3d\n",
    "- https://towardsdatascience.com/creating-neural-networks-from-scratch-in-python-6f02b5dd911\n",
    "- https://subscription.packtpub.com/book/data/9781789346640/1/ch01lvl1sec05/feed-forward-propagation-from-scratch-in-python\n",
    "- [Softmax Layer from Scratch ](https://www.youtube.com/watch?v=AbLvJVwySEo)"
   ]
  },
  {
   "cell_type": "markdown",
   "metadata": {},
   "source": [
    "### Dependencies"
   ]
  },
  {
   "cell_type": "code",
   "execution_count": 791,
   "metadata": {},
   "outputs": [],
   "source": [
    "# ! pip install torchvision\n",
    "# ! pip install tqdm\n",
    "# ! pip install matplotlib\n",
    "# ! pip install scikit-learn"
   ]
  },
  {
   "cell_type": "code",
   "execution_count": 792,
   "metadata": {},
   "outputs": [],
   "source": [
    "# fix random seed\n",
    "import numpy as np\n",
    "np.random.seed(0)\n",
    "np.random.RandomState(0)\n",
    "\n",
    "# torch random seed\n",
    "import torch\n",
    "torch.manual_seed(0)\n",
    "\n",
    "import torchvision.datasets as ds\n",
    "import torchvision.transforms as transforms\n",
    "from tqdm import tqdm"
   ]
  },
  {
   "cell_type": "markdown",
   "metadata": {},
   "source": [
    "### Dataset"
   ]
  },
  {
   "cell_type": "code",
   "execution_count": 793,
   "metadata": {},
   "outputs": [
    {
     "name": "stderr",
     "output_type": "stream",
     "text": [
      "Loading dataset: 100%|██████████ [ time left: 00:00 ]\n"
     ]
    }
   ],
   "source": [
    "# Download the training and validation datasets\n",
    "with tqdm(total=1, desc=\"Loading dataset\", bar_format=\"{l_bar}{bar} [ time left: {remaining} ]\") as pbar:\n",
    "    train_val_ds = ds.EMNIST(\n",
    "        root=\"./data\",\n",
    "        split=\"letters\",\n",
    "        train=True,\n",
    "        download=True,\n",
    "        transform=transforms.ToTensor(),\n",
    "    )\n",
    "    pbar.update()"
   ]
  },
  {
   "cell_type": "code",
   "execution_count": 794,
   "metadata": {},
   "outputs": [
    {
     "name": "stdout",
     "output_type": "stream",
     "text": [
      " train validation dataset lenth: 124800\n",
      " shape: torch.Size([124800, 28, 28])\n",
      " number of classes: 27\n",
      " classes: ['N/A', 'a', 'b', 'c', 'd', 'e', 'f', 'g', 'h', 'i', 'j', 'k', 'l', 'm', 'n', 'o', 'p', 'q', 'r', 's', 't', 'u', 'v', 'w', 'x', 'y', 'z']\n"
     ]
    }
   ],
   "source": [
    "print(f\" train validation dataset lenth: {len(train_val_ds)}\")\n",
    "# print shape\n",
    "print(f\" shape: {train_val_ds.data.shape}\")\n",
    "# print number of classes\n",
    "print(f\" number of classes: {len(train_val_ds.classes)}\")\n",
    "# print classes\n",
    "print(f\" classes: {train_val_ds.classes}\")"
   ]
  },
  {
   "cell_type": "code",
   "execution_count": 795,
   "metadata": {},
   "outputs": [
    {
     "name": "stderr",
     "output_type": "stream",
     "text": [
      "Loading dataset:   0%|           [ time left: ? ]\n"
     ]
    }
   ],
   "source": [
    "with tqdm(total=1, desc=\"Loading dataset\", bar_format=\"{l_bar}{bar} [ time left: {remaining} ]\") as pbar:\n",
    "    test_ds = ds.EMNIST(\n",
    "        root=\"./data\",\n",
    "        split=\"letters\",\n",
    "        train=False,\n",
    "        transform=transforms.ToTensor(),\n",
    "    )\n",
    "pbar.update()"
   ]
  },
  {
   "cell_type": "code",
   "execution_count": 796,
   "metadata": {},
   "outputs": [
    {
     "name": "stdout",
     "output_type": "stream",
     "text": [
      "test dataset lenth: 20800\n"
     ]
    }
   ],
   "source": [
    "print(f\"test dataset lenth: {len(test_ds)}\")"
   ]
  },
  {
   "cell_type": "markdown",
   "metadata": {},
   "source": [
    "### Preprocessing"
   ]
  },
  {
   "cell_type": "code",
   "execution_count": 797,
   "metadata": {},
   "outputs": [
    {
     "name": "stdout",
     "output_type": "stream",
     "text": [
      "number of samples for class 1: 4800\n",
      "number of samples for class 2: 4800\n",
      "number of samples for class 3: 4800\n",
      "number of samples for class 4: 4800\n",
      "number of samples for class 5: 4800\n",
      "number of samples for class 6: 4800\n",
      "number of samples for class 7: 4800\n",
      "number of samples for class 8: 4800\n",
      "number of samples for class 9: 4800\n",
      "number of samples for class 10: 4800\n",
      "number of samples for class 11: 4800\n",
      "number of samples for class 12: 4800\n",
      "number of samples for class 13: 4800\n",
      "number of samples for class 14: 4800\n",
      "number of samples for class 15: 4800\n",
      "number of samples for class 16: 4800\n",
      "number of samples for class 17: 4800\n",
      "number of samples for class 18: 4800\n",
      "number of samples for class 19: 4800\n",
      "number of samples for class 20: 4800\n",
      "number of samples for class 21: 4800\n",
      "number of samples for class 22: 4800\n",
      "number of samples for class 23: 4800\n",
      "number of samples for class 24: 4800\n",
      "number of samples for class 25: 4800\n",
      "number of samples for class 26: 4800\n"
     ]
    }
   ],
   "source": [
    "# get labels\n",
    "labels = np.array(train_val_ds.targets)\n",
    "# get unique labels\n",
    "unique_labels = np.unique(labels)\n",
    "\n",
    "# print number of samples per class\n",
    "for label in unique_labels:\n",
    "    print(f\"number of samples for class {label}: {np.sum(labels == label)}\")"
   ]
  },
  {
   "cell_type": "code",
   "execution_count": 798,
   "metadata": {},
   "outputs": [
    {
     "name": "stdout",
     "output_type": "stream",
     "text": [
      "number of samples for class 'N/A'(0): 0\n"
     ]
    }
   ],
   "source": [
    "# to the same with tensor operations\n",
    "print(f\"number of samples for class 'N/A'(0): {torch.sum(train_val_ds.targets == 0)}\")\n",
    "# if the count is 0, then it can cause problem with one hot encoding"
   ]
  },
  {
   "cell_type": "code",
   "execution_count": 799,
   "metadata": {},
   "outputs": [
    {
     "name": "stdout",
     "output_type": "stream",
     "text": [
      "{'N/A': 0, 'a': 1, 'b': 2, 'c': 3, 'd': 4, 'e': 5, 'f': 6, 'g': 7, 'h': 8, 'i': 9, 'j': 10, 'k': 11, 'l': 12, 'm': 13, 'n': 14, 'o': 15, 'p': 16, 'q': 17, 'r': 18, 's': 19, 't': 20, 'u': 21, 'v': 22, 'w': 23, 'x': 24, 'y': 25, 'z': 26}\n"
     ]
    }
   ],
   "source": [
    "print(train_val_ds.class_to_idx)"
   ]
  },
  {
   "cell_type": "code",
   "execution_count": 800,
   "metadata": {},
   "outputs": [],
   "source": [
    "# remove 'N/A' label and decrease all labels by 1\n",
    "train_val_ds.targets = train_val_ds.targets - 1\n",
    "test_ds.targets = test_ds.targets - 1\n",
    "\n",
    "train_val_ds.classes = train_val_ds.classes[1:]\n",
    "test_ds.classes = test_ds.classes[1:]"
   ]
  },
  {
   "cell_type": "code",
   "execution_count": 801,
   "metadata": {},
   "outputs": [
    {
     "name": "stdout",
     "output_type": "stream",
     "text": [
      "number of samples for class 0: 4800\n",
      "number of samples for class 1: 4800\n",
      "number of samples for class 2: 4800\n",
      "number of samples for class 3: 4800\n",
      "number of samples for class 4: 4800\n",
      "number of samples for class 5: 4800\n",
      "number of samples for class 6: 4800\n",
      "number of samples for class 7: 4800\n",
      "number of samples for class 8: 4800\n",
      "number of samples for class 9: 4800\n",
      "number of samples for class 10: 4800\n",
      "number of samples for class 11: 4800\n",
      "number of samples for class 12: 4800\n",
      "number of samples for class 13: 4800\n",
      "number of samples for class 14: 4800\n",
      "number of samples for class 15: 4800\n",
      "number of samples for class 16: 4800\n",
      "number of samples for class 17: 4800\n",
      "number of samples for class 18: 4800\n",
      "number of samples for class 19: 4800\n",
      "number of samples for class 20: 4800\n",
      "number of samples for class 21: 4800\n",
      "number of samples for class 22: 4800\n",
      "number of samples for class 23: 4800\n",
      "number of samples for class 24: 4800\n",
      "number of samples for class 25: 4800\n"
     ]
    }
   ],
   "source": [
    "# print number of samples per class\n",
    "for label in torch.unique(train_val_ds.targets):\n",
    "    print(f\"number of samples for class {label}: {torch.sum(train_val_ds.targets == label)}\")"
   ]
  },
  {
   "cell_type": "code",
   "execution_count": 802,
   "metadata": {},
   "outputs": [
    {
     "name": "stdout",
     "output_type": "stream",
     "text": [
      "{'a': 0, 'b': 1, 'c': 2, 'd': 3, 'e': 4, 'f': 5, 'g': 6, 'h': 7, 'i': 8, 'j': 9, 'k': 10, 'l': 11, 'm': 12, 'n': 13, 'o': 14, 'p': 15, 'q': 16, 'r': 17, 's': 18, 't': 19, 'u': 20, 'v': 21, 'w': 22, 'x': 23, 'y': 24, 'z': 25}\n",
      "{'a': 0, 'b': 1, 'c': 2, 'd': 3, 'e': 4, 'f': 5, 'g': 6, 'h': 7, 'i': 8, 'j': 9, 'k': 10, 'l': 11, 'm': 12, 'n': 13, 'o': 14, 'p': 15, 'q': 16, 'r': 17, 's': 18, 't': 19, 'u': 20, 'v': 21, 'w': 22, 'x': 23, 'y': 24, 'z': 25}\n"
     ]
    }
   ],
   "source": [
    "print(train_val_ds.class_to_idx)\n",
    "print(test_ds.class_to_idx)"
   ]
  },
  {
   "cell_type": "markdown",
   "metadata": {},
   "source": [
    "#### Data Normalization"
   ]
  },
  {
   "cell_type": "code",
   "execution_count": 803,
   "metadata": {},
   "outputs": [],
   "source": [
    "# next issue: do we need to normalize the data?\n",
    "%matplotlib inline\n",
    "import matplotlib.pyplot as plt"
   ]
  },
  {
   "cell_type": "code",
   "execution_count": 804,
   "metadata": {},
   "outputs": [
    {
     "data": {
      "image/png": "[encoded data removed]",
      "text/plain": [
       "<Figure size 640x480 with 1 Axes>"
      ]
     },
     "metadata": {},
     "output_type": "display_data"
    }
   ],
   "source": [
    "# plot histogram for 1st 10 samples\n",
    "plt.hist(train_val_ds.data[:10].numpy().ravel(), bins=256)\n",
    "plt.xlabel(\"pixel value\")\n",
    "plt.ylabel(\"count\")\n",
    "plt.show()"
   ]
  },
  {
   "cell_type": "code",
   "execution_count": 805,
   "metadata": {},
   "outputs": [],
   "source": [
    "# normalize the data\n",
    "train_val_ds.data = train_val_ds.data / torch.max(train_val_ds.data)\n",
    "test_ds.data = test_ds.data / torch.max(test_ds.data)"
   ]
  },
  {
   "cell_type": "code",
   "execution_count": 806,
   "metadata": {},
   "outputs": [
    {
     "name": "stdout",
     "output_type": "stream",
     "text": [
      "min value: 0.0\n",
      "max value: 1.0\n"
     ]
    }
   ],
   "source": [
    "# print min and max values\n",
    "print(f\"min value: {torch.min(train_val_ds.data)}\")\n",
    "print(f\"max value: {torch.max(train_val_ds.data)}\")"
   ]
  },
  {
   "cell_type": "code",
   "execution_count": 807,
   "metadata": {},
   "outputs": [
    {
     "data": {
      "image/png": "[encoded data removed]",
      "text/plain": [
       "<Figure size 640x480 with 1 Axes>"
      ]
     },
     "metadata": {},
     "output_type": "display_data"
    },
    {
     "data": {
      "image/png": "[encoded data removed]",
      "text/plain": [
       "<Figure size 640x480 with 1 Axes>"
      ]
     },
     "metadata": {},
     "output_type": "display_data"
    }
   ],
   "source": [
    "# plot histogram for 1st 10 samples\n",
    "plt.hist(train_val_ds.data[:10].numpy().ravel(), bins=256)\n",
    "plt.xlabel(\"pixel value\")\n",
    "plt.ylabel(\"count\")\n",
    "plt.show()\n",
    "\n",
    "# plot for test data\n",
    "plt.hist(test_ds.data[:10].numpy().ravel(), bins=256)\n",
    "plt.xlabel(\"pixel value\")\n",
    "plt.ylabel(\"count\")\n",
    "plt.show()"
   ]
  },
  {
   "cell_type": "code",
   "execution_count": 808,
   "metadata": {},
   "outputs": [
    {
     "data": {
      "image/png": "[encoded data removed]",
      "text/plain": [
       "<Figure size 1000x500 with 10 Axes>"
      ]
     },
     "metadata": {},
     "output_type": "display_data"
    }
   ],
   "source": [
    "# visualize the data\n",
    "# plot 1st 10 samples\n",
    "\n",
    "# create figure\n",
    "fig, ax = plt.subplots(2, 5, figsize=(10, 5))\n",
    "\n",
    "# plot 1st 10 samples\n",
    "for i, ax in enumerate(ax.flatten()):\n",
    "    ax.imshow(train_val_ds.data[i], cmap=\"gray\")\n",
    "    # access label as letter\n",
    "    letter = train_val_ds.classes[train_val_ds.targets[i]]\n",
    "    ax.set_title(f\"label: {letter}\")\n",
    "\n",
    "# remove axis\n",
    "plt.axis(\"off\")\n",
    "# show plot\n",
    "plt.show()"
   ]
  },
  {
   "cell_type": "code",
   "execution_count": 809,
   "metadata": {},
   "outputs": [],
   "source": [
    "# # one hot encoding the data with scikit-learn\n",
    "# from sklearn.preprocessing import OneHotEncoder\n",
    "\n",
    "# # create one hot encoder\n",
    "# one_hot_encoder = OneHotEncoder()\n",
    "\n",
    "# # fit one hot encoder\n",
    "# one_hot_encoder.fit(train_validation_ds.targets.reshape(-1, 1))\n",
    "\n",
    "# # transform targets\n",
    "# train_validation_ds.targets = one_hot_encoder.transform(train_validation_ds.targets.reshape(-1, 1)).toarray()\n",
    "\n",
    "# # transform targets\n",
    "# test_ds.targets = one_hot_encoder.transform(test_ds.targets.reshape(-1, 1)).toarray()\n",
    "\n",
    "\n",
    "# # convert to tensor\n",
    "# train_validation_ds.targets = torch.tensor(train_validation_ds.targets)\n",
    "# test_ds.targets = torch.tensor(test_ds.targets)\n",
    "\n",
    "# # print shape\n",
    "# print(f\"train validation targets shape: {train_validation_ds.targets.shape}\")"
   ]
  },
  {
   "cell_type": "markdown",
   "metadata": {},
   "source": [
    "### Train-validation split\n",
    "The dataset contains 28x28 images of letters from the Latin alphabet. Split the train-validation dataset as 85%-15% to form your train set and validation set. "
   ]
  },
  {
   "cell_type": "code",
   "execution_count": 810,
   "metadata": {},
   "outputs": [],
   "source": [
    "# convert torch to numpy\n",
    "train_val_ds.data = train_val_ds.data.numpy()\n",
    "train_val_ds.targets = train_val_ds.targets.numpy()\n",
    "\n",
    "# convert torch to numpy\n",
    "test_ds.data = test_ds.data.numpy()\n",
    "test_ds.targets = test_ds.targets.numpy()"
   ]
  },
  {
   "cell_type": "code",
   "execution_count": 811,
   "metadata": {},
   "outputs": [],
   "source": [
    "# use sklearn to split train_validation_dataset into train and validation datasets\n",
    "from sklearn.model_selection import train_test_split\n",
    "\n",
    "val_per = 0.15 # validation percentage\n",
    "\n",
    "# split train_validation_dataset into train and validation datasets as 85% and 15% respectively\n",
    "train_ds, val_ds, train_labels, val_labels = train_test_split(\n",
    "    train_val_ds.data,\n",
    "    train_val_ds.targets,\n",
    "    test_size=val_per,\n",
    "    random_state=1,\n",
    ")"
   ]
  },
  {
   "cell_type": "code",
   "execution_count": 812,
   "metadata": {},
   "outputs": [
    {
     "name": "stdout",
     "output_type": "stream",
     "text": [
      "train dataset length: 106080\n",
      "validation dataset length: 18720\n"
     ]
    }
   ],
   "source": [
    "print(f\"train dataset length: {len(train_ds)}\")\n",
    "print(f\"validation dataset length: {len(val_ds)}\")"
   ]
  },
  {
   "cell_type": "code",
   "execution_count": 813,
   "metadata": {},
   "outputs": [
    {
     "name": "stdout",
     "output_type": "stream",
     "text": [
      "train_ds shape: (106080, 28, 28)\n",
      "train_ds type: <class 'numpy.ndarray'>\n",
      "cell data type: float32\n",
      "\n",
      "train_labels shape: (106080,)\n",
      "train_labels type: <class 'numpy.ndarray'>\n",
      "cell data type: int64\n",
      "\n",
      "train_ds 1st 10 data: [[[0. 0. 0. ... 0. 0. 0.]\n",
      "  [0. 0. 0. ... 0. 0. 0.]\n",
      "  [0. 0. 0. ... 0. 0. 0.]\n",
      "  ...\n",
      "  [0. 0. 0. ... 0. 0. 0.]\n",
      "  [0. 0. 0. ... 0. 0. 0.]\n",
      "  [0. 0. 0. ... 0. 0. 0.]]\n",
      "\n",
      " [[0. 0. 0. ... 0. 0. 0.]\n",
      "  [0. 0. 0. ... 0. 0. 0.]\n",
      "  [0. 0. 0. ... 0. 0. 0.]\n",
      "  ...\n",
      "  [0. 0. 0. ... 0. 0. 0.]\n",
      "  [0. 0. 0. ... 0. 0. 0.]\n",
      "  [0. 0. 0. ... 0. 0. 0.]]]\n",
      "train_labels 1st 10 data: [17  1]\n"
     ]
    }
   ],
   "source": [
    "# print data type\n",
    "print(f\"train_ds shape: {train_ds.shape}\")\n",
    "print(f\"train_ds type: {type(train_ds)}\")\n",
    "print(f\"cell data type: {train_ds.dtype}\")\n",
    "\n",
    "# print label\n",
    "print(f\"\\ntrain_labels shape: {train_labels.shape}\")\n",
    "print(f\"train_labels type: {type(train_labels)}\")\n",
    "print(f\"cell data type: {train_labels.dtype}\")\n",
    "\n",
    "n = 2\n",
    "# print 1st 5 data\n",
    "print(f\"\\ntrain_ds 1st 10 data: {train_ds[:n]}\")\n",
    "# print 1st 5 labels\n",
    "print(f\"train_labels 1st 10 data: {train_labels[:n]}\")"
   ]
  },
  {
   "cell_type": "code",
   "execution_count": 814,
   "metadata": {},
   "outputs": [
    {
     "name": "stdout",
     "output_type": "stream",
     "text": [
      "train labels: [17  1 14 19 21  2 11  9 19 23]\n"
     ]
    }
   ],
   "source": [
    "# print 1st 10 labels\n",
    "print(f\"train labels: {train_labels[:10]}\")"
   ]
  },
  {
   "cell_type": "code",
   "execution_count": 815,
   "metadata": {},
   "outputs": [
    {
     "name": "stdout",
     "output_type": "stream",
     "text": [
      "validation labels: [12 10 11  8 25 19 18  4 13 15]\n"
     ]
    }
   ],
   "source": [
    "# print 1st 10 validation labels\n",
    "print(f\"validation labels: {val_labels[:10]}\")"
   ]
  },
  {
   "cell_type": "markdown",
   "metadata": {},
   "source": [
    "### FFN implementation"
   ]
  },
  {
   "cell_type": "markdown",
   "metadata": {},
   "source": [
    "##### Loss function\n",
    "As you can see, our example model is currently random. To remedy this, we need a way to\n",
    "calculate how wrong the neural network is at current predictions and begin adjusting weights\n",
    "and biases to decrease error over time. Thus, our next step is to quantify how wrong the model is\n",
    "through what’s defined as a loss function."
   ]
  },
  {
   "cell_type": "code",
   "execution_count": 816,
   "metadata": {},
   "outputs": [],
   "source": [
    "# no matter which loss function we’ll use, the overall loss is always a mean value of all sample losses\n",
    "# common loss functions\n",
    "class Loss:\n",
    "    # Calculates the data and regularization losses\n",
    "    # given model output and ground truth values\n",
    "    def calculate(self, output, y):\n",
    "        # Calculate sample losses\n",
    "        sample_losses = self.forward(output, y)\n",
    "        # Calculate mean loss\n",
    "        data_loss = np.mean(sample_losses)\n",
    "        # Return loss\n",
    "        return data_loss"
   ]
  },
  {
   "cell_type": "markdown",
   "metadata": {},
   "source": [
    "##### Activation function"
   ]
  },
  {
   "cell_type": "code",
   "execution_count": 817,
   "metadata": {},
   "outputs": [],
   "source": [
    "class Activation:\n",
    "    def forward(inputs):\n",
    "        raise NotImplementedError\n",
    "    @staticmethod\n",
    "    def backward(grad_outputs, inputs):\n",
    "        raise NotImplementedError\n",
    "    "
   ]
  },
  {
   "cell_type": "code",
   "execution_count": 818,
   "metadata": {},
   "outputs": [],
   "source": [
    "# ReLU activation\n",
    "class ReLU(Activation):\n",
    "    # Forward pass\n",
    "    @staticmethod\n",
    "    def forward(inputs):\n",
    "        return np.maximum(0, inputs, dtype=np.float64)\n",
    "    \n",
    "    # derivative of relu\n",
    "    @staticmethod\n",
    "    def backward(grad_outputs, inputs):\n",
    "        # Since we need to modify original variable,\n",
    "        # let’s make a copy of values first\n",
    "        grad_inputs = grad_outputs.copy()\n",
    "\n",
    "        # Zero gradient where input values were negative\n",
    "        grad_inputs[inputs <= 0] = 0\n",
    "\n",
    "        return grad_inputs"
   ]
  },
  {
   "cell_type": "code",
   "execution_count": 819,
   "metadata": {},
   "outputs": [],
   "source": [
    "class Softmax(Activation):\n",
    "    # Forward pass\n",
    "    @staticmethod\n",
    "    def forward(inputs):\n",
    "        # get row max to subtract from each row\n",
    "        # this is to prevent overflow\n",
    "        # the max value in each row will be 0\n",
    "        # the output will be extactly the same\n",
    "        row_maxs = np.max(inputs, axis=1, keepdims=True)\n",
    "\n",
    "        # Get unnormalized probabilities\n",
    "        # exponentiate values\n",
    "        exp_values = np.exp(inputs - row_maxs)\n",
    "\n",
    "        # Get normalization bases for each sample\n",
    "        norm_bases = np.sum(exp_values, axis=1, keepdims=True)\n",
    "\n",
    "        # Normalize them for each sample\n",
    "        probabilities = exp_values / norm_bases\n",
    "\n",
    "        #print(f\"softmax forward output shape: {probabilities.shape}\")\n",
    "\n",
    "        return probabilities\n",
    "    \n",
    "\n",
    "    # back propagation\n",
    "    @staticmethod\n",
    "    def backward(grad_output, inputs):\n",
    "        # # Create uninitialized array\n",
    "        # input_grads = np.empty_like(grad_output)\n",
    "\n",
    "        # # Enumerate outputs and gradients\n",
    "        # outputs = Softmax.forward(inputs)\n",
    "        # # Loop over the samples\n",
    "        # for idx, (output_grad, output) in enumerate(zip(grad_output, outputs)):\n",
    "        #     # Flatten output array\n",
    "        #     single_output = output.reshape(-1, 1)\n",
    "\n",
    "        #     # Calculate Jacobian matrix of the output\n",
    "        #     jacobian_matrix = np.diagflat(single_output) - np.dot(single_output, single_output.T)\n",
    "\n",
    "        #     # Calculate sample-wise gradient\n",
    "        #     # and add it to the array of sample gradients\n",
    "        #     input_grads[idx] = np.dot(jacobian_matrix, output_grad)\n",
    "\n",
    "        # return input_grads\n",
    "        outputs = Softmax.forward(inputs)\n",
    "        grad_input = outputs * (grad_output - np.sum(outputs * grad_output, axis=-1, keepdims=True))\n",
    "        return grad_input"
   ]
  },
  {
   "cell_type": "code",
   "execution_count": 820,
   "metadata": {},
   "outputs": [
    {
     "name": "stdout",
     "output_type": "stream",
     "text": [
      "softmax output: [[0.09003057 0.24472847 0.66524096]]\n",
      "softmax gradient: [[-0.01418171 -0.01407704  0.02825875]]\n"
     ]
    }
   ],
   "source": [
    "#test softmax\n",
    "softmax = Softmax()\n",
    "\n",
    "# Forward pass\n",
    "x = np.array([[1.0, 2.0, 3.0]])\n",
    "y = softmax.forward(x)\n",
    "print(f\"softmax output: {y}\")\n",
    "\n",
    "# Backward pass\n",
    "# Example gradient from the next layer\n",
    "grad_output = np.array([[0.1, 0.2, 0.3]])\n",
    "# Calculate gradient\n",
    "grad_input = softmax.backward(grad_output, x)\n",
    "print(f\"softmax gradient: {grad_input}\")"
   ]
  },
  {
   "cell_type": "markdown",
   "metadata": {},
   "source": [
    "##### Dense layer"
   ]
  },
  {
   "cell_type": "code",
   "execution_count": 821,
   "metadata": {},
   "outputs": [],
   "source": [
    "# Dense or fully connected layer\n",
    "class DenseLayer:\n",
    "    # Here, we’re setting weights to be random and biases to be 0\n",
    "    def __init__(self, \n",
    "                 n_inputs:int, \n",
    "                 n_neurons:int, \n",
    "                 activation:Activation,\n",
    "                 learning_rate:float = 0.001,\n",
    "                 debug:bool = False,\n",
    "                 ) -> None:\n",
    "        # random initialization of weights\n",
    "        # n_inputs x n_neurons matrix\n",
    "        self.weights = np.random.randn(n_inputs, n_neurons)\n",
    "\n",
    "        # print max and min weights\n",
    "        if debug:\n",
    "            print(f\"weights shape: {self.weights.shape}\")\n",
    "            print(f\"weight (min, max) = ({np.min(self.weights)}, {np.max(self.weights)})\")\n",
    "           \n",
    "        # random initialization of biases\n",
    "        self.biases = np.random.randn(1, n_neurons) # 1 row and n_neurons zeros\n",
    "\n",
    "        if debug:\n",
    "            print(f\"baises shape: {self.biases.shape}\")\n",
    "            print(f\"bias (min, max) = ({np.min(self.biases)}, {np.max(self.biases)})\")\n",
    "            \n",
    "\n",
    "        # activation function\n",
    "        self.activation = activation\n",
    "        # learning rate\n",
    "        self.learning_rate = learning_rate\n",
    "\n",
    "    # Forward pass\n",
    "    # When we pass data through a model from beginning to end, this is called a forward pass. \n",
    "    def forward(self, inputs:np.ndarray):\n",
    "        # check input shape\n",
    "        if len(inputs.shape) != 2:\n",
    "            raise ValueError(f\"input shape must be 2D, got {len(inputs.shape)}D\")\n",
    "        self.inputs = inputs\n",
    "\n",
    "        # inputs shape: (batch_size, n_inputs)\n",
    "        # weights shape: (n_inputs, n_neurons)\n",
    "        # biases shape: (1, n_neurons)\n",
    "        # output shape: (batch_size, n_neurons) i.e for each sample, we get n_neurons outputs\n",
    "        out =  np.dot(self.inputs, self.weights) + self.biases\n",
    "        self.activation_inputs = out\n",
    "        out = self.activation.forward(out)\n",
    "        return out\n",
    "    \n",
    "    def backward(self, grad_output:np.ndarray):\n",
    "        # activation function derivative\n",
    "        grad_output = self.activation.backward(grad_output, self.activation_inputs)\n",
    "\n",
    "        # Gradients on parameters\n",
    "        # dE/dW = dE/dY * dY/dW = dE/dY * X.T\n",
    "        self.grad_weights = np.dot(self.inputs.T, grad_output)\n",
    "\n",
    "        # dE/dB = dE/dY * dY/dB = dE/dY * 1\n",
    "        self.grad_biases = np.sum(grad_output, axis=0, keepdims=True)\n",
    "\n",
    "        # Gradient on values\n",
    "        # dE/dX = dE/dY * dY/dX = W.T * dE/dY\n",
    "        self.grad_inputs = np.dot(grad_output, self.weights.T)\n",
    "\n",
    "    \n",
    "        # update parameters\n",
    "        # vanilla gradient descent optimization\n",
    "        self.weights -= self.learning_rate * self.grad_weights \n",
    "        self.biases -= self.learning_rate * self.grad_biases\n",
    "\n",
    "        return self.grad_inputs\n",
    "    "
   ]
  },
  {
   "cell_type": "code",
   "execution_count": 822,
   "metadata": {},
   "outputs": [
    {
     "name": "stdout",
     "output_type": "stream",
     "text": [
      "weights shape: (2, 4)\n",
      "weight (min, max) = (-0.977277879876411, 2.240893199201458)\n",
      "baises shape: (1, 4)\n",
      "bias (min, max) = (-0.10321885179355784, 1.454273506962975)\n"
     ]
    },
    {
     "data": {
      "text/plain": [
       "array([[ 5.39594947,  0.        ,  3.02295839,  3.39245229],\n",
       "       [12.65917015,  0.        ,  6.88061119,  7.57152427],\n",
       "       [19.92239082,  0.        , 10.738264  , 11.75059625]])"
      ]
     },
     "execution_count": 822,
     "metadata": {},
     "output_type": "execute_result"
    }
   ],
   "source": [
    "inputs = [\n",
    "    [1, 2],\n",
    "    [3, 4],\n",
    "    [5, 6]\n",
    "]\n",
    "\n",
    "dense1 = DenseLayer(2, 4, ReLU(), debug=True)\n",
    "dense1.forward(np.array(inputs))"
   ]
  },
  {
   "cell_type": "code",
   "execution_count": 823,
   "metadata": {},
   "outputs": [
    {
     "data": {
      "text/plain": [
       "array([[2.80571725e-01, 1.22192837e-01, 5.87019581e-01, 1.02158575e-02],\n",
       "       [9.01926081e-01, 3.65502709e-03, 9.42913652e-02, 1.27526374e-04],\n",
       "       [9.94765407e-01, 3.75109565e-05, 5.19653606e-03, 5.46195203e-07]])"
      ]
     },
     "execution_count": 823,
     "metadata": {},
     "output_type": "execute_result"
    }
   ],
   "source": [
    "inputs = [\n",
    "    [1, 2],\n",
    "    [3, 4],\n",
    "    [5, 6]\n",
    "]\n",
    "\n",
    "dense1 = DenseLayer(2, 4, Softmax())\n",
    "dense1.forward(np.array(inputs))"
   ]
  },
  {
   "cell_type": "markdown",
   "metadata": {},
   "source": [
    "#### Categorical cross entropy derivative"
   ]
  },
  {
   "cell_type": "code",
   "execution_count": 824,
   "metadata": {},
   "outputs": [],
   "source": [
    "class CategoricalCrossEntropyLoss(Loss):\n",
    "    # Forward pass\n",
    "    def forward(self, y_pred, y_true):\n",
    "        # Number of samples in a batch\n",
    "        samples = len(y_pred)\n",
    "\n",
    "        # Clip data to prevent division by 0\n",
    "        # Clip both sides to not drag mean towards any value\n",
    "        y_pred_clipped = np.clip(y_pred, 1e-7, 1 - 1e-7)\n",
    "\n",
    "        # Probabilities for target values-only if categorical labels\n",
    "        if len(y_true.shape) == 1:\n",
    "            correct_confidences = y_pred_clipped[range(samples), y_true]\n",
    "        # Mask values - only for one-hot encoded labels\n",
    "        elif len(y_true.shape) == 2:\n",
    "            correct_confidences = np.sum(y_pred_clipped * y_true, axis=1)\n",
    "        \n",
    "        # Losses\n",
    "        negative_log_likelihoods = -np.log(correct_confidences)\n",
    "        \n",
    "        return negative_log_likelihoods\n",
    "    \n",
    "    def backward(self, output_grads, y_true):\n",
    "        # Number of samples\n",
    "        samples = len(output_grads)\n",
    "\n",
    "        # Number of labels in every sample\n",
    "        # We’ll use the first sample to count them\n",
    "        labels = len(output_grads[0])\n",
    "\n",
    "        # If labels are sparse, turn them into one-hot vector\n",
    "        if len(y_true.shape) == 1:\n",
    "            y_true = np.eye(labels)[y_true]\n",
    "\n",
    "        epsilon = 1e-7\n",
    "\n",
    "        # Calculate gradient\n",
    "        self.dinputs = -y_true / (output_grads+epsilon)\n",
    "        # Normalize gradient\n",
    "        self.dinputs = self.dinputs / samples\n",
    "\n",
    "        return self.dinputs"
   ]
  },
  {
   "cell_type": "markdown",
   "metadata": {},
   "source": [
    "#### Emnist model"
   ]
  },
  {
   "cell_type": "code",
   "execution_count": 825,
   "metadata": {},
   "outputs": [],
   "source": [
    "class EmnistModel:\n",
    "    def __init__(\n",
    "            self, \n",
    "            input_size: int = 784, # 28 * 28\n",
    "            output_size: int = 26, # 26 letters\n",
    "            hidden_layers_size: list=[64, 64],\n",
    "            hidden_layers_activation:Activation = ReLU(),\n",
    "            output_layer_activation:Activation = Softmax(),\n",
    "            loss:Loss = CategoricalCrossEntropyLoss(),\n",
    "            learning_rate:float = 0.001,\n",
    "            ) -> None:\n",
    "        \n",
    "        # initialize layers\n",
    "        self.layers = []\n",
    "\n",
    "        # create hidden layers\n",
    "        for i, hidden_layer_size in enumerate(hidden_layers_size):\n",
    "            # if it is the 1st hidden layer\n",
    "            if i == 0:\n",
    "                # input size is the input size of the model\n",
    "                input_size = input_size\n",
    "            else:\n",
    "                # input size is the output size of the previous layer\n",
    "                input_size = hidden_layers_size[i-1]\n",
    "            \n",
    "            # create hidden layer\n",
    "            self.layers.append(\n",
    "                DenseLayer(\n",
    "                    input_size,\n",
    "                    hidden_layer_size,\n",
    "                    hidden_layers_activation,\n",
    "                    learning_rate=learning_rate,\n",
    "                    debug=True\n",
    "                )\n",
    "            )\n",
    "\n",
    "        # create output layer\n",
    "        self.layers.append(\n",
    "            DenseLayer(\n",
    "                hidden_layers_size[-1],\n",
    "                output_size,\n",
    "                output_layer_activation,\n",
    "                learning_rate=learning_rate,\n",
    "                debug=True\n",
    "            )\n",
    "        )\n",
    "\n",
    "        # set loss and learning rate\n",
    "        self.loss = loss\n",
    "        self.learning_rate = learning_rate\n",
    "\n",
    "    def model_summary(self):\n",
    "        # print model summary\n",
    "        print(f\"Model summary\")\n",
    "        print(f\"==============\")\n",
    "        print(f\"Input size: {self.layers[0].weights.shape[0]}\")\n",
    "        for i, layer in enumerate(self.layers):\n",
    "            print(f\"Layer {i+1} (input, output) size: {layer.weights.shape}\")\n",
    "        print(f\"Output size: {self.layers[-1].weights.shape[1]}\")\n",
    "        print(f\"Loss: {self.loss.__class__.__name__}\")\n",
    "        print(f\"Learning rate: {self.learning_rate}\\n\")\n",
    "\n",
    "    def forward(self, inputs):\n",
    "        # forward pass\n",
    "        for layer in self.layers:\n",
    "            inputs = layer.forward(inputs)\n",
    "        return inputs\n",
    "    \n",
    "    def backward(self, grads_output):\n",
    "        # backward pass\n",
    "        for layer in reversed(self.layers):\n",
    "            grads_output = layer.backward(grads_output)\n",
    "        return grads_output\n",
    "    \n",
    "    def shuffle_data(self, X:np.ndarray, y:np.ndarray):\n",
    "        # X and y has different shape\n",
    "        # so we need to shuffle them together\n",
    "        # create random index\n",
    "        random_index = np.random.permutation(len(X))\n",
    "        # shuffle X and y\n",
    "        return X[random_index], y[random_index]\n",
    "    \n",
    "    def evaluate(self, X, y):\n",
    "        # forward pass\n",
    "        output = self.forward(X)\n",
    "        # calculate loss\n",
    "        loss = self.loss.calculate(output, y)\n",
    "        # get predictions and calculate accuracy\n",
    "        predictions = np.argmax(output, axis=1)\n",
    "        accuracy = np.mean(predictions == y)\n",
    "        return loss, accuracy\n",
    "    \n",
    "    \n",
    "    def train(self, X, y, epochs, batch_size, validation_data):\n",
    "        # initialize progress bar\n",
    "        with tqdm(total=epochs, desc=\"Training\", bar_format=\"{l_bar}{bar} [ time left: {remaining} ]\") as pbar:\n",
    "\n",
    "            # shuffle data\n",
    "            X, y = self.shuffle_data(X, y)\n",
    "            # train loop\n",
    "            for epoch in range(epochs):\n",
    "        \n",
    "\n",
    "                # initialize loss and accuracy\n",
    "                epoch_loss = 0\n",
    "                epoch_accuracy = 0\n",
    "\n",
    "                steps = X.shape[0] // batch_size\n",
    "                if X.shape[0] % batch_size != 0:\n",
    "                    steps += 1\n",
    "\n",
    "\n",
    "                # iterate over batches\n",
    "                for batch in range(steps):\n",
    "                    # get batch\n",
    "                    X_batch = X[batch * batch_size: (batch + 1) * batch_size]\n",
    "                    y_batch = y[batch * batch_size: (batch + 1) * batch_size]\n",
    "\n",
    "                    # forward pass, calculate loss and accuracy\n",
    "                    # then backward pass, update parameters\n",
    "                    \n",
    "                    output = self.forward(X_batch)\n",
    "\n",
    "                    # calculate loss\n",
    "                    loss = self.loss.calculate(output, y_batch)\n",
    "\n",
    "                    # get predictions and calculate accuracy\n",
    "                    predictions = np.argmax(output, axis=1)\n",
    "                    accuracy = np.mean(predictions == y_batch)\n",
    "\n",
    "                    # update loss and accuracy\n",
    "                    epoch_loss += loss\n",
    "                    epoch_accuracy += accuracy\n",
    "\n",
    "                    # backward pass\n",
    "                    # print(output)\n",
    "                    grad_loss = self.loss.backward(output, y_batch)\n",
    "                    #print(f\"grad loss shape: {grad_loss.shape}\")\n",
    "                    self.backward(grad_loss)\n",
    "\n",
    "                \n",
    "                print(f\"epoch: {epoch+1}/{epochs}, loss: {epoch_loss / steps}, accuracy: {epoch_accuracy / steps}\")\n",
    "\n",
    "                # update progress bar\n",
    "                # pbar.set_postfix(\n",
    "                #     loss=epoch_loss / (len(X) // batch_size),\n",
    "                #     accuracy=epoch_accuracy / (len(X) // batch_size),\n",
    "                #     val_loss=self.evaluate(validation_data[0], validation_data[1])[0],\n",
    "                #     val_accuracy=self.evaluate(validation_data[0], validation_data[1])[1],\n",
    "                # )\n",
    "                pbar.update()"
   ]
  },
  {
   "cell_type": "markdown",
   "metadata": {},
   "source": [
    "### Training"
   ]
  },
  {
   "cell_type": "markdown",
   "metadata": {},
   "source": [
    "##### Building the model"
   ]
  },
  {
   "cell_type": "code",
   "execution_count": 826,
   "metadata": {},
   "outputs": [
    {
     "name": "stdout",
     "output_type": "stream",
     "text": [
      "(106080, 28, 28)\n",
      "input shape: (28, 28)\n",
      "input size: 784\n"
     ]
    }
   ],
   "source": [
    "print(train_ds.shape)\n",
    "input_shape = train_ds.shape[1:]\n",
    "input_size = np.prod(input_shape)\n",
    "print(f\"input shape: {input_shape}\")\n",
    "print(f\"input size: {input_size}\")"
   ]
  },
  {
   "cell_type": "code",
   "execution_count": 827,
   "metadata": {},
   "outputs": [
    {
     "name": "stdout",
     "output_type": "stream",
     "text": [
      "output size: 26\n"
     ]
    }
   ],
   "source": [
    "output_size = len(np.unique(train_labels))\n",
    "print(f\"output size: {output_size}\")"
   ]
  },
  {
   "cell_type": "code",
   "execution_count": 828,
   "metadata": {},
   "outputs": [
    {
     "name": "stdout",
     "output_type": "stream",
     "text": [
      "(106080, 784)\n"
     ]
    }
   ],
   "source": [
    "# flatten train_ds and val_ds\n",
    "train_ds = train_ds.reshape(train_ds.shape[0], -1)\n",
    "val_ds = val_ds.reshape(val_ds.shape[0], -1)\n",
    "\n",
    "print(train_ds.shape)"
   ]
  },
  {
   "cell_type": "code",
   "execution_count": 843,
   "metadata": {},
   "outputs": [
    {
     "name": "stdout",
     "output_type": "stream",
     "text": [
      "weights shape: (784, 1024)\n",
      "weight (min, max) = (-4.8460482186723945, 4.343344013632865)\n",
      "baises shape: (1, 1024)\n",
      "bias (min, max) = (-3.70111653217779, 3.5165598651944623)\n",
      "weights shape: (1024, 26)\n",
      "weight (min, max) = (-4.4610248423773, 3.7946705875652245)\n",
      "baises shape: (1, 26)\n",
      "bias (min, max) = (-1.959964765362146, 2.5513701089806538)\n",
      "Model summary\n",
      "==============\n",
      "Input size: 784\n",
      "Layer 1 (input, output) size: (784, 1024)\n",
      "Layer 2 (input, output) size: (1024, 26)\n",
      "Output size: 26\n",
      "Loss: CategoricalCrossEntropyLoss\n",
      "Learning rate: 0.005\n",
      "\n"
     ]
    }
   ],
   "source": [
    "model = EmnistModel(\n",
    "    input_size=input_size,\n",
    "    output_size=output_size,\n",
    "    hidden_layers_size=[1024],\n",
    "    learning_rate=0.005,\n",
    ")\n",
    "\n",
    "model.model_summary()"
   ]
  },
  {
   "cell_type": "markdown",
   "metadata": {},
   "source": [
    "##### Runnig the model"
   ]
  },
  {
   "cell_type": "code",
   "execution_count": 844,
   "metadata": {},
   "outputs": [
    {
     "name": "stderr",
     "output_type": "stream",
     "text": [
      "Training:  20%|██         [ time left: 06:16 ]"
     ]
    },
    {
     "name": "stdout",
     "output_type": "stream",
     "text": [
      "epoch: 1/5, loss: 14.711553962614595, accuracy: 0.08480392156862746\n"
     ]
    },
    {
     "name": "stderr",
     "output_type": "stream",
     "text": [
      "Training:  40%|████       [ time left: 05:01 ]"
     ]
    },
    {
     "name": "stdout",
     "output_type": "stream",
     "text": [
      "epoch: 2/5, loss: 13.756665011128137, accuracy: 0.1442024886877828\n"
     ]
    },
    {
     "name": "stderr",
     "output_type": "stream",
     "text": [
      "Training:  60%|██████     [ time left: 03:29 ]"
     ]
    },
    {
     "name": "stdout",
     "output_type": "stream",
     "text": [
      "epoch: 3/5, loss: 13.315365886265576, accuracy: 0.17148378582202112\n"
     ]
    }
   ],
   "source": [
    "model.train(\n",
    "    X=train_ds,\n",
    "    y=train_labels,\n",
    "    epochs=5,\n",
    "    batch_size=32,\n",
    "    validation_data=(val_ds, val_labels)\n",
    ")"
   ]
  },
  {
   "cell_type": "markdown",
   "metadata": {},
   "source": [
    "### Testing"
   ]
  }
 ],
 "metadata": {
  "kernelspec": {
   "display_name": "venv",
   "language": "python",
   "name": "python3"
  },
  "language_info": {
   "codemirror_mode": {
    "name": "ipython",
    "version": 3
   },
   "file_extension": ".py",
   "mimetype": "text/x-python",
   "name": "python",
   "nbconvert_exporter": "python",
   "pygments_lexer": "ipython3",
   "version": "3.11.7"
  }
 },
 "nbformat": 4,
 "nbformat_minor": 2
}
